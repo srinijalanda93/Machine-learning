{
 "cells": [
  {
   "cell_type": "markdown",
   "id": "bdad1f52-6781-40ec-95ef-4745353bce7d",
   "metadata": {},
   "source": [
    "### Linear Regression (Supervised Learning --> continous variable)\n",
    "### Importance of Linear Regression used to predict the value using the other variable\n",
    "### The variable which are used to predict we call dependent variable \n",
    "###  The variable which we are using to predict the other variable's value is called the independent variable.\n",
    "### Prefect in this concept :cost function,gradient descent,convergent algorithm\n",
    "\n",
    "## new Topic Multicollinearity  --> when one or more indepedent variable are high correlated to each other  This can lead to unstable estimates, unreliable p-values, and difficulty in interpreting the model's coefficient"
   ]
  },
  {
   "cell_type": "markdown",
   "id": "bceedc87-5de8-4edc-91d1-8ef01f20fa09",
   "metadata": {},
   "source": [
    "### AIM:responsible for developing a linear regression model to predict \"medical insurance costs---> df[charges]\"\n",
    "## using the features from the datasets"
   ]
  },
  {
   "cell_type": "code",
   "execution_count": 13,
   "id": "43aaa016-d617-43e8-b46d-e8c9ec53808c",
   "metadata": {},
   "outputs": [],
   "source": [
    "#Load the libraries \n",
    "import numpy as np\n",
    "import pandas as pnd\n",
    "import matplotlib.pyplot as mpt\n",
    "import seaborn as sns"
   ]
  },
  {
   "cell_type": "code",
   "execution_count": 14,
   "id": "e1c13a47-27b4-45a5-86c4-09a2b02a6c9e",
   "metadata": {},
   "outputs": [
    {
     "name": "stdout",
     "output_type": "stream",
     "text": [
      "      age     sex     bmi  children smoker     region      charges\n",
      "0      19  female  27.900         0    yes  southwest  16884.92400\n",
      "1      18    male  33.770         1     no  southeast   1725.55230\n",
      "2      28    male  33.000         3     no  southeast   4449.46200\n",
      "3      33    male  22.705         0     no  northwest  21984.47061\n",
      "4      32    male  28.880         0     no  northwest   3866.85520\n",
      "...   ...     ...     ...       ...    ...        ...          ...\n",
      "1333   50    male  30.970         3     no  northwest  10600.54830\n",
      "1334   18  female  31.920         0     no  northeast   2205.98080\n",
      "1335   18  female  36.850         0     no  southeast   1629.83350\n",
      "1336   21  female  25.800         0     no  southwest   2007.94500\n",
      "1337   61  female  29.070         0    yes  northwest  29141.36030\n",
      "\n",
      "[1338 rows x 7 columns]\n",
      "age           int64\n",
      "sex          object\n",
      "bmi         float64\n",
      "children      int64\n",
      "smoker       object\n",
      "region       object\n",
      "charges     float64\n",
      "dtype: object\n"
     ]
    }
   ],
   "source": [
    "#load the dataset\n",
    "dataframe=pnd.read_csv(\"Lab7_Linear_reg_insurance.csv\")\n",
    "print(dataframe)\n",
    "print(dataframe.dtypes) # each column values datatype"
   ]
  },
  {
   "cell_type": "code",
   "execution_count": 15,
   "id": "9295a14c-1e5d-4d5a-8eba-02120be1e7dc",
   "metadata": {},
   "outputs": [
    {
     "name": "stdout",
     "output_type": "stream",
     "text": [
      "Index(['age', 'sex', 'bmi', 'children', 'smoker', 'region', 'charges'], dtype='object')\n",
      "age\n",
      "sex\n",
      "bmi\n",
      "children\n",
      "smoker\n",
      "region\n",
      "charges\n"
     ]
    }
   ],
   "source": [
    "#get the columnName\n",
    "col_Name=dataframe.columns\n",
    "print(col_Name)\n",
    "for x in col_Name:\n",
    "    print(x)"
   ]
  },
  {
   "cell_type": "markdown",
   "id": "97baf6b9-9ef3-42fd-95e4-99531ff3cace",
   "metadata": {},
   "source": [
    "## Task 1: Data Preprocessing\n",
    "### 1.1 Handle Missing Data: Identify and treat any missing values in the dataset by either removing them or imputing appropriate values(Mean/Median/Mode Imputation).\n",
    "### 1.2 Encode Categorical Variables: Convert categorical features such as 'sex','smoker', and 'region' into numerical formats using techniques like one-hot encoding or label encoding.\n",
    "### 1.3 Scaling/Normalizing Features: Apply feature scaling (if necessary) to continuous variables like age, BMI, and children for better model performance."
   ]
  },
  {
   "cell_type": "code",
   "execution_count": 17,
   "id": "64eb7ad4-9d94-491b-b382-ae15e20f9472",
   "metadata": {},
   "outputs": [
    {
     "name": "stdout",
     "output_type": "stream",
     "text": [
      "      age     sex     bmi  children smoker     region      charges\n",
      "0      19  female  27.900         0    yes  southwest  16884.92400\n",
      "1      18    male  33.770         1     no  southeast   1725.55230\n",
      "2      28    male  33.000         3     no  southeast   4449.46200\n",
      "3      33    male  22.705         0     no  northwest  21984.47061\n",
      "4      32    male  28.880         0     no  northwest   3866.85520\n",
      "...   ...     ...     ...       ...    ...        ...          ...\n",
      "1333   50    male  30.970         3     no  northwest  10600.54830\n",
      "1334   18  female  31.920         0     no  northeast   2205.98080\n",
      "1335   18  female  36.850         0     no  southeast   1629.83350\n",
      "1336   21  female  25.800         0     no  southwest   2007.94500\n",
      "1337   61  female  29.070         0    yes  northwest  29141.36030\n",
      "\n",
      "[1338 rows x 7 columns]\n",
      "9366\n",
      "(1338, 7)\n",
      "   age     sex     bmi  children smoker     region      charges\n",
      "0   19  female  27.900         0    yes  southwest  16884.92400\n",
      "1   18    male  33.770         1     no  southeast   1725.55230\n",
      "2   28    male  33.000         3     no  southeast   4449.46200\n",
      "3   33    male  22.705         0     no  northwest  21984.47061\n",
      "4   32    male  28.880         0     no  northwest   3866.85520\n",
      "5   31  female  25.740         0     no  southeast   3756.62160\n",
      "6   46  female  33.440         1     no  southeast   8240.58960\n",
      "7   37  female  27.740         3     no  northwest   7281.50560\n",
      "8   37    male  29.830         2     no  northeast   6406.41070\n",
      "9   60  female  25.840         0     no  northwest  28923.13692\n",
      "      age     sex     bmi  children smoker     region      charges\n",
      "1326   42  female  32.870         0     no  northeast   7050.02130\n",
      "1327   51    male  30.030         1     no  southeast   9377.90470\n",
      "1328   23  female  24.225         2     no  northeast  22395.74424\n",
      "1329   52    male  38.600         2     no  southwest  10325.20600\n",
      "1330   57  female  25.740         2     no  southeast  12629.16560\n",
      "1331   23  female  33.400         0     no  southwest  10795.93733\n",
      "1332   52  female  44.700         3     no  southwest  11411.68500\n",
      "1333   50    male  30.970         3     no  northwest  10600.54830\n",
      "1334   18  female  31.920         0     no  northeast   2205.98080\n",
      "1335   18  female  36.850         0     no  southeast   1629.83350\n",
      "1336   21  female  25.800         0     no  southwest   2007.94500\n",
      "1337   61  female  29.070         0    yes  northwest  29141.36030\n",
      "      age     sex     bmi  children smoker     region      charges\n",
      "1191   41  female  21.755         1     no  northeast  13725.47184\n",
      "525    18  female  33.880         0     no  southeast  11482.63485\n",
      "801    64  female  35.970         0     no  southeast  14313.84630\n",
      "533    37    male  36.190         0     no  southeast  19214.70553\n",
      "1004   47    male  19.190         1     no  northeast   8627.54110\n",
      "561    54  female  32.680         0     no  northeast  10923.93320\n"
     ]
    }
   ],
   "source": [
    "# 1.1\n",
    "print(dataframe)\n",
    "print(dataframe.size)\n",
    "print(dataframe.shape)\n",
    "print(dataframe.head(10))\n",
    "print(dataframe.tail(12))\n",
    "print(dataframe.sample(6))"
   ]
  },
  {
   "cell_type": "code",
   "execution_count": 18,
   "id": "2aceaca1-675f-4ee9-a6c8-86ad7d24471e",
   "metadata": {},
   "outputs": [
    {
     "name": "stdout",
     "output_type": "stream",
     "text": [
      "['female' 'male']\n",
      "['yes' 'no']\n",
      "['southwest' 'southeast' 'northwest' 'northeast']\n"
     ]
    }
   ],
   "source": [
    "dataframe.isnull().sum() #no missing values\n",
    "d=dataframe.select_dtypes(include='object').columns.unique()\n",
    "for column in d:\n",
    "    print(dataframe[column].unique())"
   ]
  },
  {
   "cell_type": "code",
   "execution_count": 19,
   "id": "22bfafea-6dc2-4dcf-84b2-5149a6569211",
   "metadata": {},
   "outputs": [],
   "source": [
    "# #1.2 encoder categorical\n",
    "# #One-hot encoding: Suitable for categorical variables with a small number of unique categories.\n",
    "# #Label encoding: Suitable for \"ordinal categorical variables\" where the categories have a natural order.\n",
    "\n",
    "# print(dataframe.info())\n",
    "\n",
    "# # selecting only entity columns with object as its data type\n",
    "categorical_columns = dataframe.select_dtypes(include='object').columns.tolist() #in the form of the list\n",
    "\n",
    "# #print(categorical_columns)\n",
    "\n",
    "# # One-hot encode the selected columns\n",
    "# df_encoded = pnd.get_dummies(dataframe, columns=categorical_columns)\n",
    "# print(df_encoded)\n"
   ]
  },
  {
   "cell_type": "code",
   "execution_count": 20,
   "id": "2d20698e-67c3-4acd-ab28-9259e4e6064b",
   "metadata": {},
   "outputs": [
    {
     "name": "stdout",
     "output_type": "stream",
     "text": [
      "      age     sex     bmi  children smoker     region      charges\n",
      "0      19  female  27.900         0    yes  southwest  16884.92400\n",
      "1      18    male  33.770         1     no  southeast   1725.55230\n",
      "2      28    male  33.000         3     no  southeast   4449.46200\n",
      "3      33    male  22.705         0     no  northwest  21984.47061\n",
      "4      32    male  28.880         0     no  northwest   3866.85520\n",
      "...   ...     ...     ...       ...    ...        ...          ...\n",
      "1333   50    male  30.970         3     no  northwest  10600.54830\n",
      "1334   18  female  31.920         0     no  northeast   2205.98080\n",
      "1335   18  female  36.850         0     no  southeast   1629.83350\n",
      "1336   21  female  25.800         0     no  southwest   2007.94500\n",
      "1337   61  female  29.070         0    yes  northwest  29141.36030\n",
      "\n",
      "[1338 rows x 7 columns]\n"
     ]
    }
   ],
   "source": [
    "print(dataframe)"
   ]
  },
  {
   "cell_type": "code",
   "execution_count": 21,
   "id": "67e56147-ad0a-475b-b827-a699628435bc",
   "metadata": {},
   "outputs": [
    {
     "name": "stdout",
     "output_type": "stream",
     "text": [
      "      age     sex     bmi  children smoker     region      charges  \\\n",
      "0      19  female  27.900         0    yes  southwest  16884.92400   \n",
      "1      18    male  33.770         1     no  southeast   1725.55230   \n",
      "2      28    male  33.000         3     no  southeast   4449.46200   \n",
      "3      33    male  22.705         0     no  northwest  21984.47061   \n",
      "4      32    male  28.880         0     no  northwest   3866.85520   \n",
      "...   ...     ...     ...       ...    ...        ...          ...   \n",
      "1333   50    male  30.970         3     no  northwest  10600.54830   \n",
      "1334   18  female  31.920         0     no  northeast   2205.98080   \n",
      "1335   18  female  36.850         0     no  southeast   1629.83350   \n",
      "1336   21  female  25.800         0     no  southwest   2007.94500   \n",
      "1337   61  female  29.070         0    yes  northwest  29141.36030   \n",
      "\n",
      "      sex_encoded  smoker_encoded  region_encoded  \n",
      "0               0               1               3  \n",
      "1               1               0               2  \n",
      "2               1               0               2  \n",
      "3               1               0               1  \n",
      "4               1               0               1  \n",
      "...           ...             ...             ...  \n",
      "1333            1               0               1  \n",
      "1334            0               0               0  \n",
      "1335            0               0               2  \n",
      "1336            0               0               3  \n",
      "1337            0               1               1  \n",
      "\n",
      "[1338 rows x 10 columns]\n",
      "None\n"
     ]
    }
   ],
   "source": [
    "#since the above code having the ordinal data let go with the label encoding\n",
    "from sklearn.preprocessing import LabelEncoder as lb_encod\n",
    "for column in categorical_columns:\n",
    "    le = lb_encod()\n",
    "    dataframe[column + '_encoded'] = le.fit_transform(dataframe[column])\n",
    "print(dataframe)\n",
    "# Drop the original categorical columns if desired\n",
    "df_encoded=dataframe.drop(categorical_columns, axis=1, inplace=True)\n",
    "\n",
    "print(df_encoded)\n"
   ]
  },
  {
   "cell_type": "code",
   "execution_count": 22,
   "id": "a32cde30-cc7a-4322-b945-a2d426c2813f",
   "metadata": {},
   "outputs": [
    {
     "name": "stdout",
     "output_type": "stream",
     "text": [
      "the final dataset:       age     bmi  children      charges  sex_encoded  smoker_encoded  \\\n",
      "0      19  27.900         0  16884.92400            0               1   \n",
      "1      18  33.770         1   1725.55230            1               0   \n",
      "2      28  33.000         3   4449.46200            1               0   \n",
      "3      33  22.705         0  21984.47061            1               0   \n",
      "4      32  28.880         0   3866.85520            1               0   \n",
      "...   ...     ...       ...          ...          ...             ...   \n",
      "1333   50  30.970         3  10600.54830            1               0   \n",
      "1334   18  31.920         0   2205.98080            0               0   \n",
      "1335   18  36.850         0   1629.83350            0               0   \n",
      "1336   21  25.800         0   2007.94500            0               0   \n",
      "1337   61  29.070         0  29141.36030            0               1   \n",
      "\n",
      "      region_encoded  \n",
      "0                  3  \n",
      "1                  2  \n",
      "2                  2  \n",
      "3                  1  \n",
      "4                  1  \n",
      "...              ...  \n",
      "1333               1  \n",
      "1334               0  \n",
      "1335               2  \n",
      "1336               3  \n",
      "1337               1  \n",
      "\n",
      "[1338 rows x 7 columns]\n"
     ]
    }
   ],
   "source": [
    "### The final dataset\n",
    "print(\"the final dataset:\",dataframe)"
   ]
  },
  {
   "cell_type": "code",
   "execution_count": 23,
   "id": "40903ae2-29bc-4811-8769-2259a6a24119",
   "metadata": {},
   "outputs": [
    {
     "name": "stdout",
     "output_type": "stream",
     "text": [
      "           age       bmi  children      charges  sex_encoded  smoker_encoded  \\\n",
      "0     0.021739  0.321227       0.0  16884.92400            0               1   \n",
      "1     0.000000  0.479150       0.2   1725.55230            1               0   \n",
      "2     0.217391  0.458434       0.6   4449.46200            1               0   \n",
      "3     0.326087  0.181464       0.0  21984.47061            1               0   \n",
      "4     0.304348  0.347592       0.0   3866.85520            1               0   \n",
      "...        ...       ...       ...          ...          ...             ...   \n",
      "1333  0.695652  0.403820       0.6  10600.54830            1               0   \n",
      "1334  0.000000  0.429379       0.0   2205.98080            0               0   \n",
      "1335  0.000000  0.562012       0.0   1629.83350            0               0   \n",
      "1336  0.065217  0.264730       0.0   2007.94500            0               0   \n",
      "1337  0.934783  0.352704       0.0  29141.36030            0               1   \n",
      "\n",
      "      region_encoded  \n",
      "0                  3  \n",
      "1                  2  \n",
      "2                  2  \n",
      "3                  1  \n",
      "4                  1  \n",
      "...              ...  \n",
      "1333               1  \n",
      "1334               0  \n",
      "1335               2  \n",
      "1336               3  \n",
      "1337               1  \n",
      "\n",
      "[1338 rows x 7 columns]\n"
     ]
    }
   ],
   "source": [
    "#Scaling/Normalizing Features: Apply feature scaling (if necessary) to\n",
    "#continuous variables like age, BMI, and children for better model performance.\n",
    "# gradient descent\n",
    "# we can use min-max(0-1)z-score(StandardScaler),robust scaling\n",
    "\n",
    "from sklearn.preprocessing import MinMaxScaler\n",
    "scaler=MinMaxScaler()\n",
    "dataframe[['age','bmi','children']]=scaler.fit_transform(dataframe[['age', 'bmi', 'children']])\n",
    "\n",
    "print(dataframe)\n"
   ]
  },
  {
   "cell_type": "code",
   "execution_count": 34,
   "id": "6e42355a-90e9-4748-8f66-26d5f36b6055",
   "metadata": {},
   "outputs": [
    {
     "name": "stdout",
     "output_type": "stream",
     "text": [
      "[ 5.69074233e+03  2.83339369e+04  1.10676779e+04  1.20444624e+04\n",
      "  2.48291347e+04  7.32524313e+03  1.45513130e+04  3.04518828e+04\n",
      "  1.17033984e+04  3.17193902e+04  3.33492357e+04  1.20084516e+04\n",
      "  1.43956683e+04  1.10829413e+04  1.26404237e+04  6.86542154e+03\n",
      "  6.41954202e+03  3.87994230e+04  3.47337801e+04  8.23772572e+03\n",
      "  1.24021023e+04  1.82941338e+03  5.71228193e+03  3.25398241e+04\n",
      "  1.37363530e+04  2.59910468e+04  1.45804471e+04  1.97652428e+03\n",
      "  6.71848642e+03  8.76899990e+03  3.06783887e+04  9.17513427e+03\n",
      "  3.17426161e+04  3.63914965e+04  2.35347632e+04  1.01654799e+03\n",
      "  1.38868199e+04  1.01931869e+04  9.15755582e+03  1.63164051e+04\n",
      "  7.59457269e+03  1.31443563e+04  8.42635143e+03  8.05554561e+03\n",
      "  9.23520345e+02  1.02047216e+04  3.75671639e+03  2.77846046e+04\n",
      "  6.37834601e+03  1.01945489e+04  1.41936846e+04  2.50400687e+04\n",
      "  8.73764143e+03  1.15981913e+04  9.22880936e+03  1.25063395e+03\n",
      "  9.77237010e+03  5.63457729e+03  9.62969964e+03  6.38129543e+03\n",
      "  4.00116966e+03  1.47883155e+03  3.83952877e+03  1.69339722e+04\n",
      "  3.89950034e+03  4.26403362e+03  1.10793109e+04  1.99153655e+03\n",
      "  1.21143708e+04  3.16625199e+04  2.37533619e+03  2.26377110e+03\n",
      "  8.14223734e+03  7.94070535e+03 -8.47117400e+00  6.86207763e+03\n",
      "  1.07598473e+04  9.14014660e+03  1.34208114e+04  5.53616162e+03\n",
      "  3.93022820e+03  3.18083441e+04  3.56001625e+04  2.13252825e+03\n",
      "  3.70092178e+04  2.87816353e+04  2.33617845e+03  8.90095661e+03\n",
      "  1.13391261e+04  3.14419912e+04  3.19078146e+04  1.30447124e+04\n",
      "  1.07876376e+04  6.00110343e+03  6.62654662e+03  5.97515672e+03\n",
      "  2.68973629e+04  8.20719717e+03  6.09703013e+03  9.07141135e+03\n",
      "  9.65070164e+03  3.50059872e+04  1.66051342e+04  9.12014823e+03\n",
      "  1.23846800e+04  3.06035729e+04  1.69101109e+04  9.06209113e+03\n",
      "  1.37573238e+04  7.62939666e+03  2.30881220e+03  1.54880387e+02\n",
      "  1.07548888e+04  2.60262966e+04  8.30934873e+03  1.18023609e+04\n",
      "  3.68318744e+04  8.16555723e+03  5.35468678e+03  1.34329361e+04\n",
      "  1.67570124e+03  6.14039690e+03  1.69133765e+04  1.41110658e+04\n",
      "  2.50834520e+04  2.84009192e+04  1.50426906e+04  3.05473707e+03\n",
      "  1.25795360e+04 -2.65560976e+02  1.17811331e+04  3.81243734e+04\n",
      "  2.99602100e+04  3.43197459e+03  9.77282236e+02  1.46385652e+04\n",
      "  1.40537783e+04  1.74852547e+04  1.30610147e+04  1.44637117e+04\n",
      "  3.09622704e+04  1.02306026e+04  8.21550794e+03  3.28798400e+04\n",
      "  1.22399328e+04  5.68888762e+03  3.48315817e+04  3.00287872e+04\n",
      "  5.83325657e+03  3.21877275e+03  7.36532202e+03  4.28978684e+03\n",
      "  1.53808457e+04  1.38635746e+04  2.55181863e+03  1.15407727e+03\n",
      "  1.44758461e+04  1.72320984e+04  1.14054520e+04  9.72906485e+03\n",
      "  1.25622590e+04  2.72118250e+04  9.11855606e+03  8.25477586e+03\n",
      "  9.88580703e+03  7.58847103e+03  8.32430278e+03  3.33996983e+03\n",
      "  1.07207794e+04  8.63565038e+03  7.72079581e+03  7.64702832e+03\n",
      "  6.81227874e+03  3.22591097e+03  8.29253997e+03  7.64198184e+03\n",
      "  5.92927472e+03  2.96591005e+03  2.70556079e+04  1.47769140e+04\n",
      "  5.53538976e+03  2.95163577e+03  8.27971368e+02  9.25447737e+03\n",
      "  7.41238772e+03  3.60775523e+04  4.71409099e+03  2.97563737e+04\n",
      "  1.21431939e+04  5.55603055e+03  4.25335140e+03  3.73235840e+03\n",
      "  6.28627746e+03  1.00586799e+04  3.04131944e+04  9.87542666e+03\n",
      "  8.16097868e+01  9.90597684e+03 -6.25310312e+02  7.61593337e+03\n",
      "  7.36589323e+03  6.38209867e+03  3.82597614e+03  1.54347444e+04\n",
      "  5.90351737e+03  2.88684284e+04  3.36312668e+04  1.57624481e+04\n",
      "  2.94666604e+03  9.70931750e+03  1.32152175e+04  1.90227189e+04\n",
      "  9.53351857e+03  1.51529279e+04  2.63424380e+04  7.82436375e+03\n",
      "  3.30640207e+04  3.50808855e+04  3.88394334e+03  1.33900897e+04\n",
      "  6.09907460e+03  6.27190229e+03  3.59086548e+04  2.65038459e+03\n",
      "  2.64152693e+03  5.78580200e+03  3.94335820e+04  2.66556016e+02\n",
      "  5.80244810e+03  6.92332026e+03  6.27779091e+03  6.41319919e+03\n",
      "  1.58835494e+04  7.21413467e+03  5.67331075e+03  3.50256701e+04\n",
      "  9.73379993e+03  5.86979492e+03  1.15809314e+04  1.98412703e+03\n",
      "  3.74838323e+03  4.42820586e+03  1.08099445e+04  3.96659769e+03\n",
      "  1.20736728e+04  1.19879975e+04  3.07915687e+04  2.47200574e+03\n",
      "  1.96881641e+03  1.53421159e+04  7.07101852e+03  1.21668628e+04\n",
      "  3.00544449e+04  3.38696651e+04  9.19050367e+03  3.82004510e+04\n",
      "  3.03545301e+04  4.16992153e+03  1.18345301e+04  2.98725575e+03\n",
      "  1.59803698e+04  7.49457729e+03  1.28026336e+04  5.89733829e+03\n",
      "  1.26087056e+04  1.03951784e+04  1.69341655e+03  2.98414185e+04]\n"
     ]
    }
   ],
   "source": [
    "#model\n",
    "from sklearn.linear_model import LinearRegression\n",
    "from sklearn.model_selection import train_test_split \n",
    "\n",
    "X = dataframe[['age', 'sex_encoded' ,'smoker_encoded', 'bmi', 'children', 'region_encoded']]\n",
    "y = dataframe['charges']\n",
    "\n",
    "# print(X)\n",
    "# print(y)\n",
    "\n",
    "# spliting the  data into training and testing sets\n",
    "X_train, X_test, y_train, y_test = train_test_split(X, y, test_size=0.2,random_state=40)\n",
    "\n",
    "# Create and train the model\n",
    "model = LinearRegression()\n",
    "model.fit(X_train, y_train)\n",
    "\n",
    "# Make predictions\n",
    "y_pred = model.predict(X_test) \n",
    "print(y_pred)"
   ]
  },
  {
   "cell_type": "code",
   "execution_count": 40,
   "id": "a7a2fdb3-efa3-4c5d-97ce-df70a9666c77",
   "metadata": {
    "scrolled": true
   },
   "outputs": [
    {
     "name": "stdout",
     "output_type": "stream",
     "text": [
      "Variance Inflation Factor before removal:\n",
      "         VIF         Feature\n",
      "0  11.157012           const\n",
      "1   1.015394             age\n",
      "2   1.008889     sex_encoded\n",
      "3   1.006466  smoker_encoded\n",
      "4   1.040608             bmi\n",
      "5   1.002482        children\n",
      "6   1.025966  region_encoded\n",
      "Features to remove due to high VIF: []\n",
      "Predicted values:\n",
      "[ 5.69074233e+03  2.83339369e+04  1.10676779e+04  1.20444624e+04\n",
      "  2.48291347e+04  7.32524313e+03  1.45513130e+04  3.04518828e+04\n",
      "  1.17033984e+04  3.17193902e+04  3.33492357e+04  1.20084516e+04\n",
      "  1.43956683e+04  1.10829413e+04  1.26404237e+04  6.86542154e+03\n",
      "  6.41954202e+03  3.87994230e+04  3.47337801e+04  8.23772572e+03\n",
      "  1.24021023e+04  1.82941338e+03  5.71228193e+03  3.25398241e+04\n",
      "  1.37363530e+04  2.59910468e+04  1.45804471e+04  1.97652428e+03\n",
      "  6.71848642e+03  8.76899990e+03  3.06783887e+04  9.17513427e+03\n",
      "  3.17426161e+04  3.63914965e+04  2.35347632e+04  1.01654799e+03\n",
      "  1.38868199e+04  1.01931869e+04  9.15755582e+03  1.63164051e+04\n",
      "  7.59457269e+03  1.31443563e+04  8.42635143e+03  8.05554561e+03\n",
      "  9.23520345e+02  1.02047216e+04  3.75671639e+03  2.77846046e+04\n",
      "  6.37834601e+03  1.01945489e+04  1.41936846e+04  2.50400687e+04\n",
      "  8.73764143e+03  1.15981913e+04  9.22880936e+03  1.25063395e+03\n",
      "  9.77237010e+03  5.63457729e+03  9.62969964e+03  6.38129543e+03\n",
      "  4.00116966e+03  1.47883155e+03  3.83952877e+03  1.69339722e+04\n",
      "  3.89950034e+03  4.26403362e+03  1.10793109e+04  1.99153655e+03\n",
      "  1.21143708e+04  3.16625199e+04  2.37533619e+03  2.26377110e+03\n",
      "  8.14223734e+03  7.94070535e+03 -8.47117400e+00  6.86207763e+03\n",
      "  1.07598473e+04  9.14014660e+03  1.34208114e+04  5.53616162e+03\n",
      "  3.93022820e+03  3.18083441e+04  3.56001625e+04  2.13252825e+03\n",
      "  3.70092178e+04  2.87816353e+04  2.33617845e+03  8.90095661e+03\n",
      "  1.13391261e+04  3.14419912e+04  3.19078146e+04  1.30447124e+04\n",
      "  1.07876376e+04  6.00110343e+03  6.62654662e+03  5.97515672e+03\n",
      "  2.68973629e+04  8.20719717e+03  6.09703013e+03  9.07141135e+03\n",
      "  9.65070164e+03  3.50059872e+04  1.66051342e+04  9.12014823e+03\n",
      "  1.23846800e+04  3.06035729e+04  1.69101109e+04  9.06209113e+03\n",
      "  1.37573238e+04  7.62939666e+03  2.30881220e+03  1.54880387e+02\n",
      "  1.07548888e+04  2.60262966e+04  8.30934873e+03  1.18023609e+04\n",
      "  3.68318744e+04  8.16555723e+03  5.35468678e+03  1.34329361e+04\n",
      "  1.67570124e+03  6.14039690e+03  1.69133765e+04  1.41110658e+04\n",
      "  2.50834520e+04  2.84009192e+04  1.50426906e+04  3.05473707e+03\n",
      "  1.25795360e+04 -2.65560976e+02  1.17811331e+04  3.81243734e+04\n",
      "  2.99602100e+04  3.43197459e+03  9.77282236e+02  1.46385652e+04\n",
      "  1.40537783e+04  1.74852547e+04  1.30610147e+04  1.44637117e+04\n",
      "  3.09622704e+04  1.02306026e+04  8.21550794e+03  3.28798400e+04\n",
      "  1.22399328e+04  5.68888762e+03  3.48315817e+04  3.00287872e+04\n",
      "  5.83325657e+03  3.21877275e+03  7.36532202e+03  4.28978684e+03\n",
      "  1.53808457e+04  1.38635746e+04  2.55181863e+03  1.15407727e+03\n",
      "  1.44758461e+04  1.72320984e+04  1.14054520e+04  9.72906485e+03\n",
      "  1.25622590e+04  2.72118250e+04  9.11855606e+03  8.25477586e+03\n",
      "  9.88580703e+03  7.58847103e+03  8.32430278e+03  3.33996983e+03\n",
      "  1.07207794e+04  8.63565038e+03  7.72079581e+03  7.64702832e+03\n",
      "  6.81227874e+03  3.22591097e+03  8.29253997e+03  7.64198184e+03\n",
      "  5.92927472e+03  2.96591005e+03  2.70556079e+04  1.47769140e+04\n",
      "  5.53538976e+03  2.95163577e+03  8.27971368e+02  9.25447737e+03\n",
      "  7.41238772e+03  3.60775523e+04  4.71409099e+03  2.97563737e+04\n",
      "  1.21431939e+04  5.55603055e+03  4.25335140e+03  3.73235840e+03\n",
      "  6.28627746e+03  1.00586799e+04  3.04131944e+04  9.87542666e+03\n",
      "  8.16097868e+01  9.90597684e+03 -6.25310312e+02  7.61593337e+03\n",
      "  7.36589323e+03  6.38209867e+03  3.82597614e+03  1.54347444e+04\n",
      "  5.90351737e+03  2.88684284e+04  3.36312668e+04  1.57624481e+04\n",
      "  2.94666604e+03  9.70931750e+03  1.32152175e+04  1.90227189e+04\n",
      "  9.53351857e+03  1.51529279e+04  2.63424380e+04  7.82436375e+03\n",
      "  3.30640207e+04  3.50808855e+04  3.88394334e+03  1.33900897e+04\n",
      "  6.09907460e+03  6.27190229e+03  3.59086548e+04  2.65038459e+03\n",
      "  2.64152693e+03  5.78580200e+03  3.94335820e+04  2.66556016e+02\n",
      "  5.80244810e+03  6.92332026e+03  6.27779091e+03  6.41319919e+03\n",
      "  1.58835494e+04  7.21413467e+03  5.67331075e+03  3.50256701e+04\n",
      "  9.73379993e+03  5.86979492e+03  1.15809314e+04  1.98412703e+03\n",
      "  3.74838323e+03  4.42820586e+03  1.08099445e+04  3.96659769e+03\n",
      "  1.20736728e+04  1.19879975e+04  3.07915687e+04  2.47200574e+03\n",
      "  1.96881641e+03  1.53421159e+04  7.07101852e+03  1.21668628e+04\n",
      "  3.00544449e+04  3.38696651e+04  9.19050367e+03  3.82004510e+04\n",
      "  3.03545301e+04  4.16992153e+03  1.18345301e+04  2.98725575e+03\n",
      "  1.59803698e+04  7.49457729e+03  1.28026336e+04  5.89733829e+03\n",
      "  1.26087056e+04  1.03951784e+04  1.69341655e+03  2.98414185e+04]\n"
     ]
    }
   ],
   "source": [
    "import pandas as pnd\n",
    "import statsmodels.api as sm\n",
    "from statsmodels.stats.outliers_influence import variance_inflation_factor\n",
    "#from sklearn.linear_model import LinearRegression\n",
    "#from sklearn.model_selection import train_test_split\n",
    "\n",
    "# assume 'dataframe' is your dataset\n",
    "X = dataframe[['age', 'sex_encoded', 'smoker_encoded', 'bmi', 'children', 'region_encoded']]\n",
    "y = dataframe['charges']\n",
    "\n",
    "# add a constant term to the independent variables for VIF cal\n",
    "X_constant = sm.add_constant(X)\n",
    "\n",
    "# Cal the VIF for each feature\n",
    "vif = pnd.DataFrame()\n",
    "vif[\"VIF\"] = [variance_inflation_factor(X_constant.values, i) for i in range(X_constant.shape[1])]\n",
    "vif[\"Feature\"] = X_constant.columns\n",
    "\n",
    "print(\"Variance Inflation Factor before removal:\")\n",
    "print(vif)\n",
    "\n",
    "# select features with VIF greater than 5, excluding the constant term\n",
    "#cosnt term:represents the intercept in your regression model.\n",
    "features_to_remove = vif[(vif['VIF'] > 5) & (vif['Feature'] != 'const')]['Feature'].tolist()\n",
    "print(\"Features to remove due to high VIF:\", features_to_remove)\n",
    "\n",
    "#remove selected features from X\n",
    "X = X.drop(features_to_remove, axis=1)\n",
    "\n",
    "#splitting the data into training and testing sets\n",
    "X_train, X_test, y_train, y_test = train_test_split(X, y, test_size=0.2, random_state=40)\n",
    "\n",
    "# Create and train the model\n",
    "model = LinearRegression()\n",
    "model.fit(X_train, y_train)\n",
    "\n",
    "# Make predictions\n",
    "y_pred = model.predict(X_test)\n",
    "print(\"Predicted values:\")\n",
    "print(y_pred)\n"
   ]
  },
  {
   "cell_type": "code",
   "execution_count": null,
   "id": "875f098a-448a-4b12-8a82-08664b5cbb96",
   "metadata": {},
   "outputs": [],
   "source": []
  },
  {
   "cell_type": "code",
   "execution_count": null,
   "id": "96fffe02-2012-470d-94ca-5f037677dec6",
   "metadata": {},
   "outputs": [],
   "source": []
  }
 ],
 "metadata": {
  "kernelspec": {
   "display_name": "Python 3 (ipykernel)",
   "language": "python",
   "name": "python3"
  },
  "language_info": {
   "codemirror_mode": {
    "name": "ipython",
    "version": 3
   },
   "file_extension": ".py",
   "mimetype": "text/x-python",
   "name": "python",
   "nbconvert_exporter": "python",
   "pygments_lexer": "ipython3",
   "version": "3.12.4"
  }
 },
 "nbformat": 4,
 "nbformat_minor": 5
}
