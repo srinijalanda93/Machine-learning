{
 "cells": [
  {
   "cell_type": "code",
   "execution_count": null,
   "id": "684108e9-fd4a-48b2-a8b2-378209381761",
   "metadata": {},
   "outputs": [],
   "source": [
    "#using the nlp\n",
    "#import all the libaray\n",
    "#also  \n",
    "#1: unreliable,0: reliable\n",
    "import numpy as np\n",
    "import pandas as pd\n",
    "import re #regular expression\n",
    "\n",
    "import nltk\n",
    "from nltk.corpus import stopwords  # remove all unneccesary prefix\n",
    "from nltk.stem.porter import PorterStemmer\n",
    "\n",
    "from sklearn.feature_extraction.text import TfidfVectorizer\n",
    "from sklearn.model_selection import train_test_split\n",
    "from sklearn .linear_model import LogisticRegression\n",
    "from sklearn.metrics import accuracy_score\n"
   ]
  },
  {
   "cell_type": "code",
   "execution_count": null,
   "id": "f4a2da39-148e-40f4-a462-3700eab9894a",
   "metadata": {},
   "outputs": [],
   "source": [
    "nltk.download('stopwords')"
   ]
  },
  {
   "cell_type": "code",
   "execution_count": 145,
   "id": "2a4495df-f8a1-4ea5-8c88-48e8049c48b2",
   "metadata": {},
   "outputs": [
    {
     "name": "stdout",
     "output_type": "stream",
     "text": [
      "['i', 'me', 'my', 'myself', 'we', 'our', 'ours', 'ourselves', 'you', \"you're\", \"you've\", \"you'll\", \"you'd\", 'your', 'yours', 'yourself', 'yourselves', 'he', 'him', 'his', 'himself', 'she', \"she's\", 'her', 'hers', 'herself', 'it', \"it's\", 'its', 'itself', 'they', 'them', 'their', 'theirs', 'themselves', 'what', 'which', 'who', 'whom', 'this', 'that', \"that'll\", 'these', 'those', 'am', 'is', 'are', 'was', 'were', 'be', 'been', 'being', 'have', 'has', 'had', 'having', 'do', 'does', 'did', 'doing', 'a', 'an', 'the', 'and', 'but', 'if', 'or', 'because', 'as', 'until', 'while', 'of', 'at', 'by', 'for', 'with', 'about', 'against', 'between', 'into', 'through', 'during', 'before', 'after', 'above', 'below', 'to', 'from', 'up', 'down', 'in', 'out', 'on', 'off', 'over', 'under', 'again', 'further', 'then', 'once', 'here', 'there', 'when', 'where', 'why', 'how', 'all', 'any', 'both', 'each', 'few', 'more', 'most', 'other', 'some', 'such', 'no', 'nor', 'not', 'only', 'own', 'same', 'so', 'than', 'too', 'very', 's', 't', 'can', 'will', 'just', 'don', \"don't\", 'should', \"should've\", 'now', 'd', 'll', 'm', 'o', 're', 've', 'y', 'ain', 'aren', \"aren't\", 'couldn', \"couldn't\", 'didn', \"didn't\", 'doesn', \"doesn't\", 'hadn', \"hadn't\", 'hasn', \"hasn't\", 'haven', \"haven't\", 'isn', \"isn't\", 'ma', 'mightn', \"mightn't\", 'mustn', \"mustn't\", 'needn', \"needn't\", 'shan', \"shan't\", 'shouldn', \"shouldn't\", 'wasn', \"wasn't\", 'weren', \"weren't\", 'won', \"won't\", 'wouldn', \"wouldn't\"]\n",
      "<class 'list'>\n"
     ]
    }
   ],
   "source": [
    "a=stopwords.words('english')\n",
    "print(a)\n",
    "print(type(a))"
   ]
  },
  {
   "cell_type": "code",
   "execution_count": 21,
   "id": "293b33c6-2987-4785-920f-39fd4e6539cb",
   "metadata": {},
   "outputs": [
    {
     "name": "stdout",
     "output_type": "stream",
     "text": [
      "0            0\n",
      "1            1\n",
      "2            2\n",
      "3            3\n",
      "4            4\n",
      "         ...  \n",
      "20795    20795\n",
      "20796    20796\n",
      "20797    20797\n",
      "20798    20798\n",
      "20799    20799\n",
      "Name: id, Length: 20800, dtype: int64\n",
      "0        House Dem Aide: We Didn’t Even See Comey’s Let...\n",
      "1        FLYNN: Hillary Clinton, Big Woman on Campus - ...\n",
      "2                        Why the Truth Might Get You Fired\n",
      "3        15 Civilians Killed In Single US Airstrike Hav...\n",
      "4        Iranian woman jailed for fictional unpublished...\n",
      "                               ...                        \n",
      "20795    Rapper T.I.: Trump a ’Poster Child For White S...\n",
      "20796    N.F.L. Playoffs: Schedule, Matchups and Odds -...\n",
      "20797    Macy’s Is Said to Receive Takeover Approach by...\n",
      "20798    NATO, Russia To Hold Parallel Exercises In Bal...\n",
      "20799                            What Keeps the F-35 Alive\n",
      "Name: title, Length: 20800, dtype: object\n",
      "Index(['id', 'title', 'author', 'text', 'label'], dtype='object')\n"
     ]
    }
   ],
   "source": [
    "dataset=pd.read_csv('train.csv')\n",
    "print(dataset['id'])\n",
    "print(dataset['title'])\n",
    "print(dataset.columns)"
   ]
  },
  {
   "cell_type": "code",
   "execution_count": 43,
   "id": "733f044f-8a7e-493c-bba5-c443b23f3c49",
   "metadata": {},
   "outputs": [
    {
     "data": {
      "text/plain": [
       "104000"
      ]
     },
     "execution_count": 43,
     "metadata": {},
     "output_type": "execute_result"
    }
   ],
   "source": [
    "# dataset.shape[0]\n",
    "# dataset.shape[1]\n",
    "dataset.shape\n",
    "dataset.size"
   ]
  },
  {
   "cell_type": "code",
   "execution_count": 41,
   "id": "903d2b22-e4ce-4c34-a98e-e4c25dd6be93",
   "metadata": {},
   "outputs": [
    {
     "data": {
      "text/html": [
       "<div>\n",
       "<style scoped>\n",
       "    .dataframe tbody tr th:only-of-type {\n",
       "        vertical-align: middle;\n",
       "    }\n",
       "\n",
       "    .dataframe tbody tr th {\n",
       "        vertical-align: top;\n",
       "    }\n",
       "\n",
       "    .dataframe thead th {\n",
       "        text-align: right;\n",
       "    }\n",
       "</style>\n",
       "<table border=\"1\" class=\"dataframe\">\n",
       "  <thead>\n",
       "    <tr style=\"text-align: right;\">\n",
       "      <th></th>\n",
       "      <th>id</th>\n",
       "      <th>title</th>\n",
       "      <th>author</th>\n",
       "      <th>text</th>\n",
       "      <th>label</th>\n",
       "    </tr>\n",
       "  </thead>\n",
       "  <tbody>\n",
       "    <tr>\n",
       "      <th>2267</th>\n",
       "      <td>2267</td>\n",
       "      <td>Taxpayers Will Defend Trump in Suit Charging C...</td>\n",
       "      <td>Charlie Savage, Eric Lipton, Gardiner Harris a...</td>\n",
       "      <td>■ The federal taxpayer will be defending Presi...</td>\n",
       "      <td>0</td>\n",
       "    </tr>\n",
       "    <tr>\n",
       "      <th>5062</th>\n",
       "      <td>5062</td>\n",
       "      <td>Bob Creamer Admits To Daily Calls With The Cli...</td>\n",
       "      <td>Terresa Monroe-Hamilton</td>\n",
       "      <td>Bob Creamer Admits To Daily Calls With The C...</td>\n",
       "      <td>1</td>\n",
       "    </tr>\n",
       "    <tr>\n",
       "      <th>7232</th>\n",
       "      <td>7232</td>\n",
       "      <td>Chelsea Handler to Lead Anti-Trump ’Women’s Ma...</td>\n",
       "      <td>Daniel Nussbaum</td>\n",
       "      <td>Talk show host Chelsea Handler is set to lead ...</td>\n",
       "      <td>0</td>\n",
       "    </tr>\n",
       "    <tr>\n",
       "      <th>14250</th>\n",
       "      <td>14250</td>\n",
       "      <td>John Glenn, American Hero of the Space Age, Di...</td>\n",
       "      <td>John Noble Wilford</td>\n",
       "      <td>John Glenn, a   son of Ohio who was hailed as ...</td>\n",
       "      <td>0</td>\n",
       "    </tr>\n",
       "    <tr>\n",
       "      <th>18419</th>\n",
       "      <td>18419</td>\n",
       "      <td>NaN</td>\n",
       "      <td>Jeannette</td>\n",
       "      <td>It’s always a pleasure 🙂</td>\n",
       "      <td>1</td>\n",
       "    </tr>\n",
       "    <tr>\n",
       "      <th>9943</th>\n",
       "      <td>9943</td>\n",
       "      <td>Within The Walls Of This Suburban Polling Plac...</td>\n",
       "      <td>NaN</td>\n",
       "      <td>Within The Walls Of This Suburban Polling Plac...</td>\n",
       "      <td>1</td>\n",
       "    </tr>\n",
       "  </tbody>\n",
       "</table>\n",
       "</div>"
      ],
      "text/plain": [
       "          id                                              title  \\\n",
       "2267    2267  Taxpayers Will Defend Trump in Suit Charging C...   \n",
       "5062    5062  Bob Creamer Admits To Daily Calls With The Cli...   \n",
       "7232    7232  Chelsea Handler to Lead Anti-Trump ’Women’s Ma...   \n",
       "14250  14250  John Glenn, American Hero of the Space Age, Di...   \n",
       "18419  18419                                                NaN   \n",
       "9943    9943  Within The Walls Of This Suburban Polling Plac...   \n",
       "\n",
       "                                                  author  \\\n",
       "2267   Charlie Savage, Eric Lipton, Gardiner Harris a...   \n",
       "5062                             Terresa Monroe-Hamilton   \n",
       "7232                                     Daniel Nussbaum   \n",
       "14250                                 John Noble Wilford   \n",
       "18419                                          Jeannette   \n",
       "9943                                                 NaN   \n",
       "\n",
       "                                                    text  label  \n",
       "2267   ■ The federal taxpayer will be defending Presi...      0  \n",
       "5062     Bob Creamer Admits To Daily Calls With The C...      1  \n",
       "7232   Talk show host Chelsea Handler is set to lead ...      0  \n",
       "14250  John Glenn, a   son of Ohio who was hailed as ...      0  \n",
       "18419                           It’s always a pleasure 🙂      1  \n",
       "9943   Within The Walls Of This Suburban Polling Plac...      1  "
      ]
     },
     "execution_count": 41,
     "metadata": {},
     "output_type": "execute_result"
    }
   ],
   "source": [
    "dataset.head()\n",
    "dataset.tail()\n",
    "dataset.sample(6)"
   ]
  },
  {
   "cell_type": "code",
   "execution_count": 45,
   "id": "36970f45-e94e-462f-8dbc-9bb41c69ea61",
   "metadata": {},
   "outputs": [
    {
     "data": {
      "text/plain": [
       "id           0\n",
       "title      558\n",
       "author    1957\n",
       "text        39\n",
       "label        0\n",
       "dtype: int64"
      ]
     },
     "execution_count": 45,
     "metadata": {},
     "output_type": "execute_result"
    }
   ],
   "source": [
    "dataset.isnull().sum()"
   ]
  },
  {
   "cell_type": "code",
   "execution_count": 69,
   "id": "ce15eb72-86fc-43ea-9312-825acd6de84a",
   "metadata": {},
   "outputs": [],
   "source": [
    "# # from the above either we drop the dataset\n",
    "# import pandas as pd\n",
    "\n",
    "# # Assuming your dataset is stored in a DataFrame named 'df'\n",
    "# # Get the sum of null values in each column\n",
    "# null_counts = dataset.isnull().sum()\n",
    "# print(null_counts)\n",
    "\n",
    "# # Get the names of columns with all null values\n",
    "\n",
    "# empty_columns = null_counts[null_counts == dataset.shape[0]].index\n",
    "# print(empty_columns)\n",
    "# #dataset.shape[0].index\n",
    "# # Drop the empty columns from the DataFrame\n",
    "# df = dataset.drop(empty_columns, axis=1)\n",
    "# print(df)\n",
    "# df.shape"
   ]
  },
  {
   "cell_type": "code",
   "execution_count": 83,
   "id": "415a06b7-6f45-4c80-8ef0-d93bc92cff46",
   "metadata": {},
   "outputs": [
    {
     "name": "stdout",
     "output_type": "stream",
     "text": [
      "          id                                              title  \\\n",
      "0          0  House Dem Aide: We Didn’t Even See Comey’s Let...   \n",
      "1          1  FLYNN: Hillary Clinton, Big Woman on Campus - ...   \n",
      "2          2                  Why the Truth Might Get You Fired   \n",
      "3          3  15 Civilians Killed In Single US Airstrike Hav...   \n",
      "4          4  Iranian woman jailed for fictional unpublished...   \n",
      "...      ...                                                ...   \n",
      "20795  20795  Rapper T.I.: Trump a ’Poster Child For White S...   \n",
      "20796  20796  N.F.L. Playoffs: Schedule, Matchups and Odds -...   \n",
      "20797  20797  Macy’s Is Said to Receive Takeover Approach by...   \n",
      "20798  20798  NATO, Russia To Hold Parallel Exercises In Bal...   \n",
      "20799  20799                          What Keeps the F-35 Alive   \n",
      "\n",
      "                                          author  \\\n",
      "0                                  Darrell Lucus   \n",
      "1                                Daniel J. Flynn   \n",
      "2                             Consortiumnews.com   \n",
      "3                                Jessica Purkiss   \n",
      "4                                 Howard Portnoy   \n",
      "...                                          ...   \n",
      "20795                              Jerome Hudson   \n",
      "20796                           Benjamin Hoffman   \n",
      "20797  Michael J. de la Merced and Rachel Abrams   \n",
      "20798                                Alex Ansary   \n",
      "20799                              David Swanson   \n",
      "\n",
      "                                                    text  label  \n",
      "0      House Dem Aide: We Didn’t Even See Comey’s Let...      1  \n",
      "1      Ever get the feeling your life circles the rou...      0  \n",
      "2      Why the Truth Might Get You Fired October 29, ...      1  \n",
      "3      Videos 15 Civilians Killed In Single US Airstr...      1  \n",
      "4      Print \\nAn Iranian woman has been sentenced to...      1  \n",
      "...                                                  ...    ...  \n",
      "20795  Rapper T. I. unloaded on black celebrities who...      0  \n",
      "20796  When the Green Bay Packers lost to the Washing...      0  \n",
      "20797  The Macy’s of today grew from the union of sev...      0  \n",
      "20798  NATO, Russia To Hold Parallel Exercises In Bal...      1  \n",
      "20799    David Swanson is an author, activist, journa...      1  \n",
      "\n",
      "[20800 rows x 5 columns]\n"
     ]
    },
    {
     "data": {
      "text/plain": [
       "Index(['id', 'title', 'author', 'text', 'label', 'content'], dtype='object')"
      ]
     },
     "execution_count": 83,
     "metadata": {},
     "output_type": "execute_result"
    }
   ],
   "source": [
    "dataNew=dataset.fillna('')\n",
    "print(dataNew)\n",
    "dataNew['content']=dataNew['author']+ ' '+dataNew['title']\n",
    "dataNew['content']\n",
    "dataNew.columns"
   ]
  },
  {
   "cell_type": "code",
   "execution_count": 147,
   "id": "140ad171-c225-4366-ad72-a2570c67a05d",
   "metadata": {},
   "outputs": [
    {
     "name": "stdout",
     "output_type": "stream",
     "text": [
      "the independent :           id                                              title  \\\n",
      "0          0  House Dem Aide: We Didn’t Even See Comey’s Let...   \n",
      "1          1  FLYNN: Hillary Clinton, Big Woman on Campus - ...   \n",
      "2          2                  Why the Truth Might Get You Fired   \n",
      "3          3  15 Civilians Killed In Single US Airstrike Hav...   \n",
      "4          4  Iranian woman jailed for fictional unpublished...   \n",
      "...      ...                                                ...   \n",
      "20795  20795  Rapper T.I.: Trump a ’Poster Child For White S...   \n",
      "20796  20796  N.F.L. Playoffs: Schedule, Matchups and Odds -...   \n",
      "20797  20797  Macy’s Is Said to Receive Takeover Approach by...   \n",
      "20798  20798  NATO, Russia To Hold Parallel Exercises In Bal...   \n",
      "20799  20799                          What Keeps the F-35 Alive   \n",
      "\n",
      "                                          author  \\\n",
      "0                                  Darrell Lucus   \n",
      "1                                Daniel J. Flynn   \n",
      "2                             Consortiumnews.com   \n",
      "3                                Jessica Purkiss   \n",
      "4                                 Howard Portnoy   \n",
      "...                                          ...   \n",
      "20795                              Jerome Hudson   \n",
      "20796                           Benjamin Hoffman   \n",
      "20797  Michael J. de la Merced and Rachel Abrams   \n",
      "20798                                Alex Ansary   \n",
      "20799                              David Swanson   \n",
      "\n",
      "                                                    text  \\\n",
      "0      House Dem Aide: We Didn’t Even See Comey’s Let...   \n",
      "1      Ever get the feeling your life circles the rou...   \n",
      "2      Why the Truth Might Get You Fired October 29, ...   \n",
      "3      Videos 15 Civilians Killed In Single US Airstr...   \n",
      "4      Print \\nAn Iranian woman has been sentenced to...   \n",
      "...                                                  ...   \n",
      "20795  Rapper T. I. unloaded on black celebrities who...   \n",
      "20796  When the Green Bay Packers lost to the Washing...   \n",
      "20797  The Macy’s of today grew from the union of sev...   \n",
      "20798  NATO, Russia To Hold Parallel Exercises In Bal...   \n",
      "20799    David Swanson is an author, activist, journa...   \n",
      "\n",
      "                                                 content  \n",
      "0      Darrell Lucus House Dem Aide: We Didn’t Even S...  \n",
      "1      Daniel J. Flynn FLYNN: Hillary Clinton, Big Wo...  \n",
      "2      Consortiumnews.com Why the Truth Might Get You...  \n",
      "3      Jessica Purkiss 15 Civilians Killed In Single ...  \n",
      "4      Howard Portnoy Iranian woman jailed for fictio...  \n",
      "...                                                  ...  \n",
      "20795  Jerome Hudson Rapper T.I.: Trump a ’Poster Chi...  \n",
      "20796  Benjamin Hoffman N.F.L. Playoffs: Schedule, Ma...  \n",
      "20797  Michael J. de la Merced and Rachel Abrams Macy...  \n",
      "20798  Alex Ansary NATO, Russia To Hold Parallel Exer...  \n",
      "20799            David Swanson What Keeps the F-35 Alive  \n",
      "\n",
      "[20800 rows x 5 columns]\n",
      "the dependent : 0        1\n",
      "1        0\n",
      "2        1\n",
      "3        1\n",
      "4        1\n",
      "        ..\n",
      "20795    0\n",
      "20796    0\n",
      "20797    0\n",
      "20798    1\n",
      "20799    1\n",
      "Name: label, Length: 20800, dtype: int64\n"
     ]
    }
   ],
   "source": [
    "#X:Represents the independent variables\n",
    "#y:Represents the dependent variable or target variable\n",
    "\n",
    "X=dataNew.drop(columns='label',axis=1)\n",
    "Y=dataNew['label']\n",
    "print(\"the independent :\",X)\n",
    "print(\"the dependent :\",Y)"
   ]
  },
  {
   "cell_type": "code",
   "execution_count": 153,
   "id": "ee83a164-67a0-44eb-8e39-4ff5387e2610",
   "metadata": {},
   "outputs": [],
   "source": [
    "steamer=PorterStemmer()"
   ]
  },
  {
   "cell_type": "code",
   "execution_count": null,
   "id": "4ff41ab3-8fff-44e1-8b0d-5e438873d408",
   "metadata": {},
   "outputs": [],
   "source": [
    "from nltk.stem import PorterStemmer\n",
    "\n",
    "def stemming(content, stemmer):\n",
    "  stemmed_content = re.sub('[^a-zA-Z]', ' ', content)\n",
    "  stemmed_content = stemmed_content.lower()\n",
    "  stemmed_content = stemmed_content.split()\n",
    "  stemmed_content = [stemmer.stem(word) for word in stemmed_content if word not in stopwords.words('english')]\n",
    "  stemmed_content = ' '.join(stemmed_content)\n",
    "  return stemmed_content\n",
    "\n",
    "# Create a stemmer object\n",
    "ps = PorterStemmer()\n",
    "\n",
    "# Apply stemming to your data\n",
    "dataNew['content'] = dataNew['content'].apply(stemming)\n",
    "dataNew['content']"
   ]
  },
  {
   "cell_type": "code",
   "execution_count": null,
   "id": "394ee6f4-5230-480e-a6c4-d80aa2e4b798",
   "metadata": {},
   "outputs": [],
   "source": [
    "\n",
    "X=data['content'].values\n",
    "Y=data['label'].values\n",
    "print(X)\n",
    "print(Y)"
   ]
  }
 ],
 "metadata": {
  "kernelspec": {
   "display_name": "Python 3 (ipykernel)",
   "language": "python",
   "name": "python3"
  },
  "language_info": {
   "codemirror_mode": {
    "name": "ipython",
    "version": 3
   },
   "file_extension": ".py",
   "mimetype": "text/x-python",
   "name": "python",
   "nbconvert_exporter": "python",
   "pygments_lexer": "ipython3",
   "version": "3.12.4"
  }
 },
 "nbformat": 4,
 "nbformat_minor": 5
}
