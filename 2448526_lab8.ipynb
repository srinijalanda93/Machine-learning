{
 "cells": [
  {
   "cell_type": "raw",
   "id": "955ac4ea-eaf6-4b24-bada-8a7d5a393dd0",
   "metadata": {},
   "source": [
    "You are developing an email spam detection system to classify incoming emails\n",
    "as 'Spam' or 'Not Spam' based on their content. You have a labeled dataset of\n",
    "emails and have implemented a Naive Bayes classifier with Laplace smoothing. \n",
    "Here’s how to evaluate and visualize the model’s performance:\n",
    "\n",
    "Data Distribution: Display a bar chart or pie chart illustrating the proportion of\n",
    "'Spam' versus 'Not Spam' emails in the dataset. This helps understand the class balance.\n",
    "\n",
    "Confusion Matrix: After training the Naive Bayes model with Laplace smoothing,\n",
    "visualize its performance using a confusion matrix. A heatmap or stacked bar chart\n",
    "can show true positives, true negatives, false positives, and false negatives.\n",
    "\n",
    "ROC Curve: Plot the ROC curve to illustrate the trade-off between the true positive rate\n",
    "(sensitivity) and false positive rate (1-specificity) across different thresholds.\n",
    "This helps in selecting an appropriate threshold for spam detection.\n",
    "\n",
    "Precision-Recall Curve: Generate the precision-recall curve to assess the model’s precision\n",
    "and recall at various thresholds. This curve is crucial for understanding how well the model\n",
    "performs with respect to both false positives and false negatives.\n",
    "\n",
    "Feature Importance: Show the importance of different features (words or phrases) used \n",
    "by the Naive Bayes model in distinguishing spam from non-spam emails. \n",
    "A bar chart can illustrate the top N features.\n",
    "\n",
    "Model Evaluation Metrics: Calculate and present key metrics\n",
    "such as accuracy, precision, recall, F1-score, and AUC-ROC. Use a table or multi-bar\n",
    "chart to provide a comprehensive assessment of the model's performance.\n",
    "\n",
    "Threshold Sensitivity: Visualize how varying threshold values impact precision and recall,\n",
    "with Laplace smoothing in consideration. A line graph or bar chart can illustrate these trade-offs."
   ]
  },
  {
   "cell_type": "code",
   "execution_count": 24,
   "id": "df286635-41f9-46fb-8a94-50a914e37a9a",
   "metadata": {},
   "outputs": [],
   "source": []
  },
  {
   "cell_type": "code",
   "execution_count": 25,
   "id": "7e87ff51-7b55-42d4-9694-6495d55583b9",
   "metadata": {},
   "outputs": [],
   "source": [
    "import numpy as npy\n",
    "import pandas as pds\n",
    "import matplotlib.pyplot as plot\n",
    "import seaborn as sns"
   ]
  },
  {
   "cell_type": "code",
   "execution_count": 26,
   "id": "ff1fc271-e848-430e-b028-6b5408428fc8",
   "metadata": {},
   "outputs": [
    {
     "name": "stdout",
     "output_type": "stream",
     "text": [
      "                                                    sms  label\n",
      "0     Go until jurong point, crazy.. Available only ...      0\n",
      "1                       Ok lar... Joking wif u oni...\\n      0\n",
      "2     Free entry in 2 a wkly comp to win FA Cup fina...      1\n",
      "3     U dun say so early hor... U c already then say...      0\n",
      "4     Nah I don't think he goes to usf, he lives aro...      0\n",
      "...                                                 ...    ...\n",
      "5569  This is the 2nd time we have tried 2 contact u...      1\n",
      "5570             Will ü b going to esplanade fr home?\\n      0\n",
      "5571  Pity, * was in mood for that. So...any other s...      0\n",
      "5572  The guy did some bitching but I acted like i'd...      0\n",
      "5573                       Rofl. Its true to its name\\n      0\n",
      "\n",
      "[5574 rows x 2 columns]\n"
     ]
    }
   ],
   "source": [
    "dataframe=pds.read_csv(\"lab8spamHam.csv\")\n",
    "print(dataframe)\n",
    "# 1 is spam and 0 is ham"
   ]
  },
  {
   "cell_type": "code",
   "execution_count": 27,
   "id": "d729d126-d50b-484c-874c-c06087fd85c0",
   "metadata": {},
   "outputs": [
    {
     "name": "stdout",
     "output_type": "stream",
     "text": [
      "<class 'pandas.core.frame.DataFrame'>\n",
      "RangeIndex: 5574 entries, 0 to 5573\n",
      "Data columns (total 2 columns):\n",
      " #   Column  Non-Null Count  Dtype \n",
      "---  ------  --------------  ----- \n",
      " 0   sms     5574 non-null   object\n",
      " 1   label   5574 non-null   int64 \n",
      "dtypes: int64(1), object(1)\n",
      "memory usage: 87.2+ KB\n"
     ]
    },
    {
     "data": {
      "text/html": [
       "<div>\n",
       "<style scoped>\n",
       "    .dataframe tbody tr th:only-of-type {\n",
       "        vertical-align: middle;\n",
       "    }\n",
       "\n",
       "    .dataframe tbody tr th {\n",
       "        vertical-align: top;\n",
       "    }\n",
       "\n",
       "    .dataframe thead th {\n",
       "        text-align: right;\n",
       "    }\n",
       "</style>\n",
       "<table border=\"1\" class=\"dataframe\">\n",
       "  <thead>\n",
       "    <tr style=\"text-align: right;\">\n",
       "      <th></th>\n",
       "      <th>label</th>\n",
       "    </tr>\n",
       "  </thead>\n",
       "  <tbody>\n",
       "    <tr>\n",
       "      <th>count</th>\n",
       "      <td>5574.000000</td>\n",
       "    </tr>\n",
       "    <tr>\n",
       "      <th>mean</th>\n",
       "      <td>0.134015</td>\n",
       "    </tr>\n",
       "    <tr>\n",
       "      <th>std</th>\n",
       "      <td>0.340699</td>\n",
       "    </tr>\n",
       "    <tr>\n",
       "      <th>min</th>\n",
       "      <td>0.000000</td>\n",
       "    </tr>\n",
       "    <tr>\n",
       "      <th>25%</th>\n",
       "      <td>0.000000</td>\n",
       "    </tr>\n",
       "    <tr>\n",
       "      <th>50%</th>\n",
       "      <td>0.000000</td>\n",
       "    </tr>\n",
       "    <tr>\n",
       "      <th>75%</th>\n",
       "      <td>0.000000</td>\n",
       "    </tr>\n",
       "    <tr>\n",
       "      <th>max</th>\n",
       "      <td>1.000000</td>\n",
       "    </tr>\n",
       "  </tbody>\n",
       "</table>\n",
       "</div>"
      ],
      "text/plain": [
       "             label\n",
       "count  5574.000000\n",
       "mean      0.134015\n",
       "std       0.340699\n",
       "min       0.000000\n",
       "25%       0.000000\n",
       "50%       0.000000\n",
       "75%       0.000000\n",
       "max       1.000000"
      ]
     },
     "execution_count": 27,
     "metadata": {},
     "output_type": "execute_result"
    }
   ],
   "source": [
    "#datapreprocessing\n",
    "dataframe.head(6)\n",
    "dataframe.tail(8)\n",
    "dataframe.sample(8)\n",
    "dataframe.info()\n",
    "dataframe.describe()"
   ]
  },
  {
   "cell_type": "code",
   "execution_count": 28,
   "id": "396ba67f-c685-4c4a-9b20-713e46e568c9",
   "metadata": {},
   "outputs": [
    {
     "data": {
      "text/plain": [
       "Index(['sms', 'label'], dtype='object')"
      ]
     },
     "execution_count": 28,
     "metadata": {},
     "output_type": "execute_result"
    }
   ],
   "source": [
    "dataframe.columns"
   ]
  },
  {
   "cell_type": "code",
   "execution_count": 29,
   "id": "81b64535-9bd1-416f-8edd-1f45d0a22af0",
   "metadata": {},
   "outputs": [
    {
     "data": {
      "text/plain": [
       "(5574, 2)"
      ]
     },
     "execution_count": 29,
     "metadata": {},
     "output_type": "execute_result"
    }
   ],
   "source": [
    "dataframe.size\n",
    "dataframe.shape"
   ]
  },
  {
   "cell_type": "code",
   "execution_count": 30,
   "id": "806f0792-2a04-4fd6-98c4-0a99292ebbb7",
   "metadata": {},
   "outputs": [
    {
     "data": {
      "text/plain": [
       "sms      0\n",
       "label    0\n",
       "dtype: int64"
      ]
     },
     "execution_count": 30,
     "metadata": {},
     "output_type": "execute_result"
    }
   ],
   "source": [
    "dataframe.isnull().sum()"
   ]
  },
  {
   "cell_type": "code",
   "execution_count": 31,
   "id": "e2159db9-5f3c-4b30-a985-244d18cc0809",
   "metadata": {},
   "outputs": [
    {
     "data": {
      "text/plain": [
       "0       0\n",
       "1       0\n",
       "2       1\n",
       "3       0\n",
       "4       0\n",
       "       ..\n",
       "5569    1\n",
       "5570    0\n",
       "5571    0\n",
       "5572    0\n",
       "5573    0\n",
       "Name: label, Length: 5574, dtype: int64"
      ]
     },
     "execution_count": 31,
     "metadata": {},
     "output_type": "execute_result"
    }
   ],
   "source": [
    "dataframe['sms']\n",
    "dataframe['label']"
   ]
  },
  {
   "cell_type": "code",
   "execution_count": 32,
   "id": "61935768-d93d-4def-add0-108706f48e27",
   "metadata": {},
   "outputs": [
    {
     "name": "stdout",
     "output_type": "stream",
     "text": [
      "747\n"
     ]
    }
   ],
   "source": [
    "# spam_ham = dataframe['sms'].value_counts()  # Assuming 'data' is your dataframe\n",
    "\n",
    "# print(f\"The ham and spam counts are:\\n{spam_ham}\")\n",
    "\n",
    "spam=0\n",
    "ham=0\n",
    "for label_Col in dataframe['label']:\n",
    "    if label_Col==0:\n",
    "        ham+=1\n",
    "    else:\n",
    "        spam+=1\n",
    "print(spam)\n",
    "    \n"
   ]
  },
  {
   "cell_type": "code",
   "execution_count": 72,
   "id": "bf15cbe3-f712-4660-88f5-b59d289c8364",
   "metadata": {},
   "outputs": [
    {
     "name": "stdout",
     "output_type": "stream",
     "text": [
      "label\n",
      "0    4827\n",
      "1     747\n",
      "Name: count, dtype: int64\n"
     ]
    },
    {
     "data": {
      "image/png": "[encoded data removed]",
      "text/plain": [
       "<Figure size 600x400 with 1 Axes>"
      ]
     },
     "metadata": {},
     "output_type": "display_data"
    }
   ],
   "source": [
    "#Data Distribution: Display a bar chart or pie chart illustrating the proportion of\n",
    "#'Spam' versus 'Not Spam' emails in the dataset. This helps understand the class balance.\n",
    "\n",
    "spam_counts=dataframe['label'].value_counts()\n",
    "print(spam_counts)\n",
    "plot.figure(figsize=(6,4))\n",
    "plot.bar(spam_counts.index,spam_counts.values,color=['red','pink'])\n",
    "plot.xlabel(\"Categories\")\n",
    "plot.ylabel(\"count\")\n",
    "a=spam_counts.values\n",
    "#plot.xticks([a[0],a[1]],['not spam','spam'])\n",
    "plot.xticks([0, 1], ['Not Spam', 'Spam']) \n",
    "plot.show()"
   ]
  },
  {
   "cell_type": "code",
   "execution_count": 74,
   "id": "5bb29753-2b89-4d34-93e7-6da6717c2b39",
   "metadata": {},
   "outputs": [
    {
     "name": "stdout",
     "output_type": "stream",
     "text": [
      "0 1\n",
      "[4827  747]\n"
     ]
    },
    {
     "data": {
      "text/plain": [
       "0       Go until jurong point, crazy.. Available only ...\n",
       "1                         Ok lar... Joking wif u oni...\\n\n",
       "2       Free entry in 2 a wkly comp to win FA Cup fina...\n",
       "3       U dun say so early hor... U c already then say...\n",
       "4       Nah I don't think he goes to usf, he lives aro...\n",
       "                              ...                        \n",
       "5569    This is the 2nd time we have tried 2 contact u...\n",
       "5570               Will ü b going to esplanade fr home?\\n\n",
       "5571    Pity, * was in mood for that. So...any other s...\n",
       "5572    The guy did some bitching but I acted like i'd...\n",
       "5573                         Rofl. Its true to its name\\n\n",
       "Name: sms, Length: 5574, dtype: object"
      ]
     },
     "execution_count": 74,
     "metadata": {},
     "output_type": "execute_result"
    }
   ],
   "source": [
    "a=spam_counts.index\n",
    "print(a[0],a[1])\n",
    "print(spam_counts.values)\n",
    "dataframe.sms"
   ]
  },
  {
   "cell_type": "code",
   "execution_count": 76,
   "id": "4f3a325a-42bb-4b44-a98a-f8c5f70933f8",
   "metadata": {},
   "outputs": [],
   "source": [
    "\n",
    "from sklearn.model_selection import train_test_split\n",
    "from sklearn.naive_bayes import MultinomialNB,X_test,y_train,y_test=train_test_split(dataframe['sms'],dataframe['label'],test_size=0.23,random_state=34)"
   ]
  },
  {
   "cell_type": "code",
   "execution_count": 86,
   "id": "a8ae0285-2dee-4026-9858-8d34d3764d96",
   "metadata": {},
   "outputs": [],
   "source": [
    "#convert the text into matrics using counterVectorizer\n",
    "from sklearn.feature_extraction.text import CountVectorizer as cv\n",
    "from sklearn.naive_bayes import MultinomialNB as MNB\n",
    "from sklearn.pipeline import make_pipeline"
   ]
  },
  {
   "cell_type": "code",
   "execution_count": 88,
   "id": "331576d4-e06a-4b9b-871f-0542a4189513",
   "metadata": {},
   "outputs": [
    {
     "name": "stdout",
     "output_type": "stream",
     "text": [
      "Pipeline(steps=[('countvectorizer', CountVectorizer()),\n",
      "                ('multinomialnb', MultinomialNB(alpha=1))])\n"
     ]
    }
   ],
   "source": [
    "model=make_pipeline(cv(),MNB(alpha=1)) # laplace smoothing\n",
    "print(model)"
   ]
  },
  {
   "cell_type": "code",
   "execution_count": 92,
   "id": "a09e1484-c863-48a8-9612-7ddf00102d5e",
   "metadata": {},
   "outputs": [
    {
     "data": {
      "text/html": [
       "<style>#sk-container-id-1 {\n",
       "  /* Definition of color scheme common for light and dark mode */\n",
       "  --sklearn-color-text: black;\n",
       "  --sklearn-color-line: gray;\n",
       "  /* Definition of color scheme for unfitted estimators */\n",
       "  --sklearn-color-unfitted-level-0: #fff5e6;\n",
       "  --sklearn-color-unfitted-level-1: #f6e4d2;\n",
       "  --sklearn-color-unfitted-level-2: #ffe0b3;\n",
       "  --sklearn-color-unfitted-level-3: chocolate;\n",
       "  /* Definition of color scheme for fitted estimators */\n",
       "  --sklearn-color-fitted-level-0: #f0f8ff;\n",
       "  --sklearn-color-fitted-level-1: #d4ebff;\n",
       "  --sklearn-color-fitted-level-2: #b3dbfd;\n",
       "  --sklearn-color-fitted-level-3: cornflowerblue;\n",
       "\n",
       "  /* Specific color for light theme */\n",
       "  --sklearn-color-text-on-default-background: var(--sg-text-color, var(--theme-code-foreground, var(--jp-content-font-color1, black)));\n",
       "  --sklearn-color-background: var(--sg-background-color, var(--theme-background, var(--jp-layout-color0, white)));\n",
       "  --sklearn-color-border-box: var(--sg-text-color, var(--theme-code-foreground, var(--jp-content-font-color1, black)));\n",
       "  --sklearn-color-icon: #696969;\n",
       "\n",
       "  @media (prefers-color-scheme: dark) {\n",
       "    /* Redefinition of color scheme for dark theme */\n",
       "    --sklearn-color-text-on-default-background: var(--sg-text-color, var(--theme-code-foreground, var(--jp-content-font-color1, white)));\n",
       "    --sklearn-color-background: var(--sg-background-color, var(--theme-background, var(--jp-layout-color0, #111)));\n",
       "    --sklearn-color-border-box: var(--sg-text-color, var(--theme-code-foreground, var(--jp-content-font-color1, white)));\n",
       "    --sklearn-color-icon: #878787;\n",
       "  }\n",
       "}\n",
       "\n",
       "#sk-container-id-1 {\n",
       "  color: var(--sklearn-color-text);\n",
       "}\n",
       "\n",
       "#sk-container-id-1 pre {\n",
       "  padding: 0;\n",
       "}\n",
       "\n",
       "#sk-container-id-1 input.sk-hidden--visually {\n",
       "  border: 0;\n",
       "  clip: rect(1px 1px 1px 1px);\n",
       "  clip: rect(1px, 1px, 1px, 1px);\n",
       "  height: 1px;\n",
       "  margin: -1px;\n",
       "  overflow: hidden;\n",
       "  padding: 0;\n",
       "  position: absolute;\n",
       "  width: 1px;\n",
       "}\n",
       "\n",
       "#sk-container-id-1 div.sk-dashed-wrapped {\n",
       "  border: 1px dashed var(--sklearn-color-line);\n",
       "  margin: 0 0.4em 0.5em 0.4em;\n",
       "  box-sizing: border-box;\n",
       "  padding-bottom: 0.4em;\n",
       "  background-color: var(--sklearn-color-background);\n",
       "}\n",
       "\n",
       "#sk-container-id-1 div.sk-container {\n",
       "  /* jupyter's `normalize.less` sets `[hidden] { display: none; }`\n",
       "     but bootstrap.min.css set `[hidden] { display: none !important; }`\n",
       "     so we also need the `!important` here to be able to override the\n",
       "     default hidden behavior on the sphinx rendered scikit-learn.org.\n",
       "     See: https://github.com/scikit-learn/scikit-learn/issues/21755 */\n",
       "  display: inline-block !important;\n",
       "  position: relative;\n",
       "}\n",
       "\n",
       "#sk-container-id-1 div.sk-text-repr-fallback {\n",
       "  display: none;\n",
       "}\n",
       "\n",
       "div.sk-parallel-item,\n",
       "div.sk-serial,\n",
       "div.sk-item {\n",
       "  /* draw centered vertical line to link estimators */\n",
       "  background-image: linear-gradient(var(--sklearn-color-text-on-default-background), var(--sklearn-color-text-on-default-background));\n",
       "  background-size: 2px 100%;\n",
       "  background-repeat: no-repeat;\n",
       "  background-position: center center;\n",
       "}\n",
       "\n",
       "/* Parallel-specific style estimator block */\n",
       "\n",
       "#sk-container-id-1 div.sk-parallel-item::after {\n",
       "  content: \"\";\n",
       "  width: 100%;\n",
       "  border-bottom: 2px solid var(--sklearn-color-text-on-default-background);\n",
       "  flex-grow: 1;\n",
       "}\n",
       "\n",
       "#sk-container-id-1 div.sk-parallel {\n",
       "  display: flex;\n",
       "  align-items: stretch;\n",
       "  justify-content: center;\n",
       "  background-color: var(--sklearn-color-background);\n",
       "  position: relative;\n",
       "}\n",
       "\n",
       "#sk-container-id-1 div.sk-parallel-item {\n",
       "  display: flex;\n",
       "  flex-direction: column;\n",
       "}\n",
       "\n",
       "#sk-container-id-1 div.sk-parallel-item:first-child::after {\n",
       "  align-self: flex-end;\n",
       "  width: 50%;\n",
       "}\n",
       "\n",
       "#sk-container-id-1 div.sk-parallel-item:last-child::after {\n",
       "  align-self: flex-start;\n",
       "  width: 50%;\n",
       "}\n",
       "\n",
       "#sk-container-id-1 div.sk-parallel-item:only-child::after {\n",
       "  width: 0;\n",
       "}\n",
       "\n",
       "/* Serial-specific style estimator block */\n",
       "\n",
       "#sk-container-id-1 div.sk-serial {\n",
       "  display: flex;\n",
       "  flex-direction: column;\n",
       "  align-items: center;\n",
       "  background-color: var(--sklearn-color-background);\n",
       "  padding-right: 1em;\n",
       "  padding-left: 1em;\n",
       "}\n",
       "\n",
       "\n",
       "/* Toggleable style: style used for estimator/Pipeline/ColumnTransformer box that is\n",
       "clickable and can be expanded/collapsed.\n",
       "- Pipeline and ColumnTransformer use this feature and define the default style\n",
       "- Estimators will overwrite some part of the style using the `sk-estimator` class\n",
       "*/\n",
       "\n",
       "/* Pipeline and ColumnTransformer style (default) */\n",
       "\n",
       "#sk-container-id-1 div.sk-toggleable {\n",
       "  /* Default theme specific background. It is overwritten whether we have a\n",
       "  specific estimator or a Pipeline/ColumnTransformer */\n",
       "  background-color: var(--sklearn-color-background);\n",
       "}\n",
       "\n",
       "/* Toggleable label */\n",
       "#sk-container-id-1 label.sk-toggleable__label {\n",
       "  cursor: pointer;\n",
       "  display: block;\n",
       "  width: 100%;\n",
       "  margin-bottom: 0;\n",
       "  padding: 0.5em;\n",
       "  box-sizing: border-box;\n",
       "  text-align: center;\n",
       "}\n",
       "\n",
       "#sk-container-id-1 label.sk-toggleable__label-arrow:before {\n",
       "  /* Arrow on the left of the label */\n",
       "  content: \"▸\";\n",
       "  float: left;\n",
       "  margin-right: 0.25em;\n",
       "  color: var(--sklearn-color-icon);\n",
       "}\n",
       "\n",
       "#sk-container-id-1 label.sk-toggleable__label-arrow:hover:before {\n",
       "  color: var(--sklearn-color-text);\n",
       "}\n",
       "\n",
       "/* Toggleable content - dropdown */\n",
       "\n",
       "#sk-container-id-1 div.sk-toggleable__content {\n",
       "  max-height: 0;\n",
       "  max-width: 0;\n",
       "  overflow: hidden;\n",
       "  text-align: left;\n",
       "  /* unfitted */\n",
       "  background-color: var(--sklearn-color-unfitted-level-0);\n",
       "}\n",
       "\n",
       "#sk-container-id-1 div.sk-toggleable__content.fitted {\n",
       "  /* fitted */\n",
       "  background-color: var(--sklearn-color-fitted-level-0);\n",
       "}\n",
       "\n",
       "#sk-container-id-1 div.sk-toggleable__content pre {\n",
       "  margin: 0.2em;\n",
       "  border-radius: 0.25em;\n",
       "  color: var(--sklearn-color-text);\n",
       "  /* unfitted */\n",
       "  background-color: var(--sklearn-color-unfitted-level-0);\n",
       "}\n",
       "\n",
       "#sk-container-id-1 div.sk-toggleable__content.fitted pre {\n",
       "  /* unfitted */\n",
       "  background-color: var(--sklearn-color-fitted-level-0);\n",
       "}\n",
       "\n",
       "#sk-container-id-1 input.sk-toggleable__control:checked~div.sk-toggleable__content {\n",
       "  /* Expand drop-down */\n",
       "  max-height: 200px;\n",
       "  max-width: 100%;\n",
       "  overflow: auto;\n",
       "}\n",
       "\n",
       "#sk-container-id-1 input.sk-toggleable__control:checked~label.sk-toggleable__label-arrow:before {\n",
       "  content: \"▾\";\n",
       "}\n",
       "\n",
       "/* Pipeline/ColumnTransformer-specific style */\n",
       "\n",
       "#sk-container-id-1 div.sk-label input.sk-toggleable__control:checked~label.sk-toggleable__label {\n",
       "  color: var(--sklearn-color-text);\n",
       "  background-color: var(--sklearn-color-unfitted-level-2);\n",
       "}\n",
       "\n",
       "#sk-container-id-1 div.sk-label.fitted input.sk-toggleable__control:checked~label.sk-toggleable__label {\n",
       "  background-color: var(--sklearn-color-fitted-level-2);\n",
       "}\n",
       "\n",
       "/* Estimator-specific style */\n",
       "\n",
       "/* Colorize estimator box */\n",
       "#sk-container-id-1 div.sk-estimator input.sk-toggleable__control:checked~label.sk-toggleable__label {\n",
       "  /* unfitted */\n",
       "  background-color: var(--sklearn-color-unfitted-level-2);\n",
       "}\n",
       "\n",
       "#sk-container-id-1 div.sk-estimator.fitted input.sk-toggleable__control:checked~label.sk-toggleable__label {\n",
       "  /* fitted */\n",
       "  background-color: var(--sklearn-color-fitted-level-2);\n",
       "}\n",
       "\n",
       "#sk-container-id-1 div.sk-label label.sk-toggleable__label,\n",
       "#sk-container-id-1 div.sk-label label {\n",
       "  /* The background is the default theme color */\n",
       "  color: var(--sklearn-color-text-on-default-background);\n",
       "}\n",
       "\n",
       "/* On hover, darken the color of the background */\n",
       "#sk-container-id-1 div.sk-label:hover label.sk-toggleable__label {\n",
       "  color: var(--sklearn-color-text);\n",
       "  background-color: var(--sklearn-color-unfitted-level-2);\n",
       "}\n",
       "\n",
       "/* Label box, darken color on hover, fitted */\n",
       "#sk-container-id-1 div.sk-label.fitted:hover label.sk-toggleable__label.fitted {\n",
       "  color: var(--sklearn-color-text);\n",
       "  background-color: var(--sklearn-color-fitted-level-2);\n",
       "}\n",
       "\n",
       "/* Estimator label */\n",
       "\n",
       "#sk-container-id-1 div.sk-label label {\n",
       "  font-family: monospace;\n",
       "  font-weight: bold;\n",
       "  display: inline-block;\n",
       "  line-height: 1.2em;\n",
       "}\n",
       "\n",
       "#sk-container-id-1 div.sk-label-container {\n",
       "  text-align: center;\n",
       "}\n",
       "\n",
       "/* Estimator-specific */\n",
       "#sk-container-id-1 div.sk-estimator {\n",
       "  font-family: monospace;\n",
       "  border: 1px dotted var(--sklearn-color-border-box);\n",
       "  border-radius: 0.25em;\n",
       "  box-sizing: border-box;\n",
       "  margin-bottom: 0.5em;\n",
       "  /* unfitted */\n",
       "  background-color: var(--sklearn-color-unfitted-level-0);\n",
       "}\n",
       "\n",
       "#sk-container-id-1 div.sk-estimator.fitted {\n",
       "  /* fitted */\n",
       "  background-color: var(--sklearn-color-fitted-level-0);\n",
       "}\n",
       "\n",
       "/* on hover */\n",
       "#sk-container-id-1 div.sk-estimator:hover {\n",
       "  /* unfitted */\n",
       "  background-color: var(--sklearn-color-unfitted-level-2);\n",
       "}\n",
       "\n",
       "#sk-container-id-1 div.sk-estimator.fitted:hover {\n",
       "  /* fitted */\n",
       "  background-color: var(--sklearn-color-fitted-level-2);\n",
       "}\n",
       "\n",
       "/* Specification for estimator info (e.g. \"i\" and \"?\") */\n",
       "\n",
       "/* Common style for \"i\" and \"?\" */\n",
       "\n",
       ".sk-estimator-doc-link,\n",
       "a:link.sk-estimator-doc-link,\n",
       "a:visited.sk-estimator-doc-link {\n",
       "  float: right;\n",
       "  font-size: smaller;\n",
       "  line-height: 1em;\n",
       "  font-family: monospace;\n",
       "  background-color: var(--sklearn-color-background);\n",
       "  border-radius: 1em;\n",
       "  height: 1em;\n",
       "  width: 1em;\n",
       "  text-decoration: none !important;\n",
       "  margin-left: 1ex;\n",
       "  /* unfitted */\n",
       "  border: var(--sklearn-color-unfitted-level-1) 1pt solid;\n",
       "  color: var(--sklearn-color-unfitted-level-1);\n",
       "}\n",
       "\n",
       ".sk-estimator-doc-link.fitted,\n",
       "a:link.sk-estimator-doc-link.fitted,\n",
       "a:visited.sk-estimator-doc-link.fitted {\n",
       "  /* fitted */\n",
       "  border: var(--sklearn-color-fitted-level-1) 1pt solid;\n",
       "  color: var(--sklearn-color-fitted-level-1);\n",
       "}\n",
       "\n",
       "/* On hover */\n",
       "div.sk-estimator:hover .sk-estimator-doc-link:hover,\n",
       ".sk-estimator-doc-link:hover,\n",
       "div.sk-label-container:hover .sk-estimator-doc-link:hover,\n",
       ".sk-estimator-doc-link:hover {\n",
       "  /* unfitted */\n",
       "  background-color: var(--sklearn-color-unfitted-level-3);\n",
       "  color: var(--sklearn-color-background);\n",
       "  text-decoration: none;\n",
       "}\n",
       "\n",
       "div.sk-estimator.fitted:hover .sk-estimator-doc-link.fitted:hover,\n",
       ".sk-estimator-doc-link.fitted:hover,\n",
       "div.sk-label-container:hover .sk-estimator-doc-link.fitted:hover,\n",
       ".sk-estimator-doc-link.fitted:hover {\n",
       "  /* fitted */\n",
       "  background-color: var(--sklearn-color-fitted-level-3);\n",
       "  color: var(--sklearn-color-background);\n",
       "  text-decoration: none;\n",
       "}\n",
       "\n",
       "/* Span, style for the box shown on hovering the info icon */\n",
       ".sk-estimator-doc-link span {\n",
       "  display: none;\n",
       "  z-index: 9999;\n",
       "  position: relative;\n",
       "  font-weight: normal;\n",
       "  right: .2ex;\n",
       "  padding: .5ex;\n",
       "  margin: .5ex;\n",
       "  width: min-content;\n",
       "  min-width: 20ex;\n",
       "  max-width: 50ex;\n",
       "  color: var(--sklearn-color-text);\n",
       "  box-shadow: 2pt 2pt 4pt #999;\n",
       "  /* unfitted */\n",
       "  background: var(--sklearn-color-unfitted-level-0);\n",
       "  border: .5pt solid var(--sklearn-color-unfitted-level-3);\n",
       "}\n",
       "\n",
       ".sk-estimator-doc-link.fitted span {\n",
       "  /* fitted */\n",
       "  background: var(--sklearn-color-fitted-level-0);\n",
       "  border: var(--sklearn-color-fitted-level-3);\n",
       "}\n",
       "\n",
       ".sk-estimator-doc-link:hover span {\n",
       "  display: block;\n",
       "}\n",
       "\n",
       "/* \"?\"-specific style due to the `<a>` HTML tag */\n",
       "\n",
       "#sk-container-id-1 a.estimator_doc_link {\n",
       "  float: right;\n",
       "  font-size: 1rem;\n",
       "  line-height: 1em;\n",
       "  font-family: monospace;\n",
       "  background-color: var(--sklearn-color-background);\n",
       "  border-radius: 1rem;\n",
       "  height: 1rem;\n",
       "  width: 1rem;\n",
       "  text-decoration: none;\n",
       "  /* unfitted */\n",
       "  color: var(--sklearn-color-unfitted-level-1);\n",
       "  border: var(--sklearn-color-unfitted-level-1) 1pt solid;\n",
       "}\n",
       "\n",
       "#sk-container-id-1 a.estimator_doc_link.fitted {\n",
       "  /* fitted */\n",
       "  border: var(--sklearn-color-fitted-level-1) 1pt solid;\n",
       "  color: var(--sklearn-color-fitted-level-1);\n",
       "}\n",
       "\n",
       "/* On hover */\n",
       "#sk-container-id-1 a.estimator_doc_link:hover {\n",
       "  /* unfitted */\n",
       "  background-color: var(--sklearn-color-unfitted-level-3);\n",
       "  color: var(--sklearn-color-background);\n",
       "  text-decoration: none;\n",
       "}\n",
       "\n",
       "#sk-container-id-1 a.estimator_doc_link.fitted:hover {\n",
       "  /* fitted */\n",
       "  background-color: var(--sklearn-color-fitted-level-3);\n",
       "}\n",
       "</style><div id=\"sk-container-id-1\" class=\"sk-top-container\"><div class=\"sk-text-repr-fallback\"><pre>Pipeline(steps=[(&#x27;countvectorizer&#x27;, CountVectorizer()),\n",
       "                (&#x27;multinomialnb&#x27;, MultinomialNB(alpha=1))])</pre><b>In a Jupyter environment, please rerun this cell to show the HTML representation or trust the notebook. <br />On GitHub, the HTML representation is unable to render, please try loading this page with nbviewer.org.</b></div><div class=\"sk-container\" hidden><div class=\"sk-item sk-dashed-wrapped\"><div class=\"sk-label-container\"><div class=\"sk-label fitted sk-toggleable\"><input class=\"sk-toggleable__control sk-hidden--visually\" id=\"sk-estimator-id-1\" type=\"checkbox\" ><label for=\"sk-estimator-id-1\" class=\"sk-toggleable__label fitted sk-toggleable__label-arrow fitted\">&nbsp;&nbsp;Pipeline<a class=\"sk-estimator-doc-link fitted\" rel=\"noreferrer\" target=\"_blank\" href=\"https://scikit-learn.org/1.4/modules/generated/sklearn.pipeline.Pipeline.html\">?<span>Documentation for Pipeline</span></a><span class=\"sk-estimator-doc-link fitted\">i<span>Fitted</span></span></label><div class=\"sk-toggleable__content fitted\"><pre>Pipeline(steps=[(&#x27;countvectorizer&#x27;, CountVectorizer()),\n",
       "                (&#x27;multinomialnb&#x27;, MultinomialNB(alpha=1))])</pre></div> </div></div><div class=\"sk-serial\"><div class=\"sk-item\"><div class=\"sk-estimator fitted sk-toggleable\"><input class=\"sk-toggleable__control sk-hidden--visually\" id=\"sk-estimator-id-2\" type=\"checkbox\" ><label for=\"sk-estimator-id-2\" class=\"sk-toggleable__label fitted sk-toggleable__label-arrow fitted\">&nbsp;CountVectorizer<a class=\"sk-estimator-doc-link fitted\" rel=\"noreferrer\" target=\"_blank\" href=\"https://scikit-learn.org/1.4/modules/generated/sklearn.feature_extraction.text.CountVectorizer.html\">?<span>Documentation for CountVectorizer</span></a></label><div class=\"sk-toggleable__content fitted\"><pre>CountVectorizer()</pre></div> </div></div><div class=\"sk-item\"><div class=\"sk-estimator fitted sk-toggleable\"><input class=\"sk-toggleable__control sk-hidden--visually\" id=\"sk-estimator-id-3\" type=\"checkbox\" ><label for=\"sk-estimator-id-3\" class=\"sk-toggleable__label fitted sk-toggleable__label-arrow fitted\">&nbsp;MultinomialNB<a class=\"sk-estimator-doc-link fitted\" rel=\"noreferrer\" target=\"_blank\" href=\"https://scikit-learn.org/1.4/modules/generated/sklearn.naive_bayes.MultinomialNB.html\">?<span>Documentation for MultinomialNB</span></a></label><div class=\"sk-toggleable__content fitted\"><pre>MultinomialNB(alpha=1)</pre></div> </div></div></div></div></div></div>"
      ],
      "text/plain": [
       "Pipeline(steps=[('countvectorizer', CountVectorizer()),\n",
       "                ('multinomialnb', MultinomialNB(alpha=1))])"
      ]
     },
     "execution_count": 92,
     "metadata": {},
     "output_type": "execute_result"
    }
   ],
   "source": [
    "model.fit(X_train,y_train)"
   ]
  },
  {
   "cell_type": "code",
   "execution_count": 94,
   "id": "053ac23f-6b24-416f-8756-bee50c9f60b9",
   "metadata": {},
   "outputs": [
    {
     "data": {
      "text/plain": [
       "0.9875292283710054"
      ]
     },
     "execution_count": 94,
     "metadata": {},
     "output_type": "execute_result"
    }
   ],
   "source": [
    "model.score(X_test,y_test)"
   ]
  },
  {
   "cell_type": "code",
   "execution_count": null,
   "id": "ff5c684f-fb51-4a61-a22e-caa373f8aa7d",
   "metadata": {},
   "outputs": [],
   "source": [
    "# Confusion Matrix: After training the Naive Bayes model with Laplace smoothing,\n",
    "# visualize its performance using a confusion matrix. A heatmap  chart\n",
    "#using Navie Bayes"
   ]
  },
  {
   "cell_type": "code",
   "execution_count": 98,
   "id": "7933b818-e8d7-4e2d-9e45-069236267765",
   "metadata": {},
   "outputs": [],
   "source": [
    "#metrics\n",
    "from sklearn.metrics import confusion_matrix,roc_auc_score,roc_curve,auc"
   ]
  },
  {
   "cell_type": "code",
   "execution_count": 102,
   "id": "8d4b687c-0221-4df2-9bb6-7a80a1b20de0",
   "metadata": {},
   "outputs": [
    {
     "name": "stdout",
     "output_type": "stream",
     "text": [
      "[0 0 0 ... 0 0 0]\n"
     ]
    }
   ],
   "source": [
    "preds=model.predict(X_test)\n",
    "print(preds)"
   ]
  },
  {
   "cell_type": "code",
   "execution_count": 128,
   "id": "ba6d0ddb-90e1-4351-9ce5-f30d3029ec87",
   "metadata": {},
   "outputs": [
    {
     "data": {
      "text/plain": [
       "Text(50.722222222222214, 0.5, 'actual values')"
      ]
     },
     "execution_count": 128,
     "metadata": {},
     "output_type": "execute_result"
    },
    {
     "data": {
      "image/png": "[encoded data removed]",
      "text/plain": [
       "<Figure size 640x480 with 2 Axes>"
      ]
     },
     "metadata": {},
     "output_type": "display_data"
    }
   ],
   "source": [
    "cfm=confusion_matrix(preds,y_test)\n",
    "#plot the heapmap\n",
    "#fmt=d help in foormate the decimal\n",
    "sns.heatmap(cfm,annot=True,fmt=\"d\",xticklabels=['Not Spam', 'Spam'],yticklabels=['not spam','spam'],cmap='Greys')\n",
    "plot.xlabel(\"predicated values\")\n",
    "plot.ylabel(\"actual values\")"
   ]
  },
  {
   "cell_type": "code",
   "execution_count": 108,
   "id": "1a56877a-e23d-42e6-ac1c-a254712d5cf6",
   "metadata": {},
   "outputs": [
    {
     "name": "stdout",
     "output_type": "stream",
     "text": [
      "['magma', 'inferno', 'plasma', 'viridis', 'cividis', 'twilight', 'twilight_shifted', 'turbo', 'Blues', 'BrBG', 'BuGn', 'BuPu', 'CMRmap', 'GnBu', 'Greens', 'Greys', 'OrRd', 'Oranges', 'PRGn', 'PiYG', 'PuBu', 'PuBuGn', 'PuOr', 'PuRd', 'Purples', 'RdBu', 'RdGy', 'RdPu', 'RdYlBu', 'RdYlGn', 'Reds', 'Spectral', 'Wistia', 'YlGn', 'YlGnBu', 'YlOrBr', 'YlOrRd', 'afmhot', 'autumn', 'binary', 'bone', 'brg', 'bwr', 'cool', 'coolwarm', 'copper', 'cubehelix', 'flag', 'gist_earth', 'gist_gray', 'gist_heat', 'gist_ncar', 'gist_rainbow', 'gist_stern', 'gist_yarg', 'gnuplot', 'gnuplot2', 'gray', 'hot', 'hsv', 'jet', 'nipy_spectral', 'ocean', 'pink', 'prism', 'rainbow', 'seismic', 'spring', 'summer', 'terrain', 'winter', 'Accent', 'Dark2', 'Paired', 'Pastel1', 'Pastel2', 'Set1', 'Set2', 'Set3', 'tab10', 'tab20', 'tab20b', 'tab20c', 'grey', 'gist_grey', 'gist_yerg', 'Grays', 'magma_r', 'inferno_r', 'plasma_r', 'viridis_r', 'cividis_r', 'twilight_r', 'twilight_shifted_r', 'turbo_r', 'Blues_r', 'BrBG_r', 'BuGn_r', 'BuPu_r', 'CMRmap_r', 'GnBu_r', 'Greens_r', 'Greys_r', 'OrRd_r', 'Oranges_r', 'PRGn_r', 'PiYG_r', 'PuBu_r', 'PuBuGn_r', 'PuOr_r', 'PuRd_r', 'Purples_r', 'RdBu_r', 'RdGy_r', 'RdPu_r', 'RdYlBu_r', 'RdYlGn_r', 'Reds_r', 'Spectral_r', 'Wistia_r', 'YlGn_r', 'YlGnBu_r', 'YlOrBr_r', 'YlOrRd_r', 'afmhot_r', 'autumn_r', 'binary_r', 'bone_r', 'brg_r', 'bwr_r', 'cool_r', 'coolwarm_r', 'copper_r', 'cubehelix_r', 'flag_r', 'gist_earth_r', 'gist_gray_r', 'gist_heat_r', 'gist_ncar_r', 'gist_rainbow_r', 'gist_stern_r', 'gist_yarg_r', 'gnuplot_r', 'gnuplot2_r', 'gray_r', 'hot_r', 'hsv_r', 'jet_r', 'nipy_spectral_r', 'ocean_r', 'pink_r', 'prism_r', 'rainbow_r', 'seismic_r', 'spring_r', 'summer_r', 'terrain_r', 'winter_r', 'Accent_r', 'Dark2_r', 'Paired_r', 'Pastel1_r', 'Pastel2_r', 'Set1_r', 'Set2_r', 'Set3_r', 'tab10_r', 'tab20_r', 'tab20b_r', 'tab20c_r', 'rocket', 'rocket_r', 'mako', 'mako_r', 'icefire', 'icefire_r', 'vlag', 'vlag_r', 'flare', 'flare_r', 'crest', 'crest_r']\n"
     ]
    }
   ],
   "source": [
    "print(plot.colormaps())"
   ]
  },
  {
   "cell_type": "code",
   "execution_count": null,
   "id": "89b6bd70-f927-43d0-bca3-1fa0cad39d5e",
   "metadata": {},
   "outputs": [],
   "source": [
    "# ROC Curve: Plot the ROC curve to illustrate the trade-off between the true positive rate\n",
    "# (sensitivity) and false positive rate (1-specificity) across different thresholds.\n",
    "# This helps in selecting an appropriate threshold for spam detection.\n",
    "\n",
    "\n",
    "# if you set a threshold of 0.5, \n",
    "#any instance with a probability greater than or equal to 0.5 is classified as positive.\n",
    "\n",
    "#roc: Receiver Operating Characteristic. \n",
    "#It is a graphical representation used to evaluate\n",
    "#the performance of a binary classification model at various threshold settings.\n",
    "#Here’s a breakdown of what ROC is and how it works:"
   ]
  },
  {
   "cell_type": "code",
   "execution_count": 140,
   "id": "af8c313b-f711-4c7a-98e4-95e1986295df",
   "metadata": {},
   "outputs": [
    {
     "name": "stdout",
     "output_type": "stream",
     "text": [
      "[[1.00000000e+00 9.49179148e-14]\n",
      " [1.00000000e+00 5.27168742e-15]\n",
      " [9.78786782e-01 2.12132177e-02]\n",
      " ...\n",
      " [9.98872319e-01 1.12768095e-03]\n",
      " [9.99942718e-01 5.72824020e-05]\n",
      " [9.98958089e-01 1.04191106e-03]]\n"
     ]
    },
    {
     "data": {
      "text/plain": [
       "array([9.49179148e-14, 5.27168742e-15, 2.12132177e-02, ...,\n",
       "       1.12768095e-03, 5.72824020e-05, 1.04191106e-03])"
      ]
     },
     "execution_count": 140,
     "metadata": {},
     "output_type": "execute_result"
    }
   ],
   "source": [
    "y_prob=model.predict_proba(X_test)\n",
    "print(y_prob)\n",
    "y_probability=y_prob[:,1]\n",
    "y_probability"
   ]
  },
  {
   "cell_type": "code",
   "execution_count": 146,
   "id": "863da0f9-cd72-4769-99f7-972ce9f40444",
   "metadata": {},
   "outputs": [
    {
     "name": "stdout",
     "output_type": "stream",
     "text": [
      "false +ve rate: [0.00000000e+00 0.00000000e+00 0.00000000e+00 0.00000000e+00\n",
      " 0.00000000e+00 0.00000000e+00 0.00000000e+00 0.00000000e+00\n",
      " 0.00000000e+00 0.00000000e+00 0.00000000e+00 0.00000000e+00\n",
      " 0.00000000e+00 8.88888889e-04 8.88888889e-04 1.77777778e-03\n",
      " 1.77777778e-03 2.66666667e-03 2.66666667e-03 3.55555556e-03\n",
      " 3.55555556e-03 1.24444444e-02 1.24444444e-02 1.33333333e-02\n",
      " 1.68888889e-02 2.13333333e-02 2.13333333e-02 4.00000000e-02\n",
      " 4.17777778e-02 8.00000000e-02 8.35555556e-02 1.37777778e-01\n",
      " 1.37777778e-01 1.51111111e-01 1.51111111e-01 1.70666667e-01\n",
      " 1.72444444e-01 1.79555556e-01 1.79555556e-01 2.21333333e-01\n",
      " 2.24000000e-01 2.41777778e-01 2.43555556e-01 2.47111111e-01\n",
      " 2.50666667e-01 2.60444444e-01 2.62222222e-01 2.74666667e-01\n",
      " 2.74666667e-01 2.79111111e-01 2.79111111e-01 3.01333333e-01\n",
      " 3.03111111e-01 3.38666667e-01 3.38666667e-01 3.43111111e-01\n",
      " 3.48444444e-01 4.02666667e-01 4.02666667e-01 4.10666667e-01\n",
      " 4.12444444e-01 4.60444444e-01 4.62222222e-01 4.88888889e-01\n",
      " 4.90666667e-01 6.42666667e-01 6.44444444e-01 7.34222222e-01\n",
      " 7.36000000e-01 8.38222222e-01 8.40000000e-01 8.75555556e-01\n",
      " 8.77333333e-01 9.57333333e-01 9.59111111e-01 9.75111111e-01\n",
      " 9.76888889e-01 1.00000000e+00]\n"
     ]
    }
   ],
   "source": [
    "#calulating the roc curve\n",
    "fpr,tpr,threshold=roc_curve(y_test,y_probability)\n",
    "print(\"false +ve rate:\",fpr)"
   ]
  },
  {
   "cell_type": "code",
   "execution_count": 162,
   "id": "bad62629-d507-42da-8d1c-a8841799d6b4",
   "metadata": {},
   "outputs": [
    {
     "data": {
      "image/png": "[encoded data removed]",
      "text/plain": [
       "<Figure size 640x480 with 1 Axes>"
      ]
     },
     "metadata": {},
     "output_type": "display_data"
    }
   ],
   "source": [
    "roc_data = pd.DataFrame({'FPR': fpr, 'TPR': tpr})\n",
    "# Plot using Pandas' plot method\n",
    "roc_data.plot(x='FPR', y='TPR', kind='line', color='darkorange', lw=2, label=f'ROC curve (AUC = {auc(fpr, tpr):.2f}', ax=plt.gca())\n",
    "\n",
    "# Plot the random classifier line\n",
    "plt.plot([0, 1], [0, 1], color='navy', lw=2, linestyle='--')  # Random classifier curve\n",
    "\n",
    "# Customize the plot\n",
    "plt.xlim([0.0, 1.0])\n",
    "plt.ylim([0.0, 1.05])\n",
    "plt.xlabel('False Positive Rate (1 - Specificity)')\n",
    "plt.ylabel('True Positive Rate (Sensitivity)')\n",
    "plt.title('Receiver Operating Characteristic (ROC) Curve for Spam Detection')\n",
    "#plt.legend(loc=\"lower right\")\n",
    "plt.show()"
   ]
  },
  {
   "cell_type": "code",
   "execution_count": 154,
   "id": "c6793e28-ca5b-4a49-b5b4-939d9e6fcccc",
   "metadata": {},
   "outputs": [],
   "source": [
    "from sklearn.metrics import precision_recall_curve, average_precision_score,accuracy_score,precision_score,recall_score,f1_score,roc_auc_score"
   ]
  },
  {
   "cell_type": "code",
   "execution_count": 160,
   "id": "5b06a765-7002-4be1-a1e6-be3b186eae3c",
   "metadata": {},
   "outputs": [
    {
     "data": {
      "image/png": "[encoded data removed]",
      "text/plain": [
       "<Figure size 800x600 with 1 Axes>"
      ]
     },
     "metadata": {},
     "output_type": "display_data"
    }
   ],
   "source": [
    "y_prob = model.predict_proba(X_test)[:, 1]  \n",
    "# Ensure this is a 1D array of probabilities for class 1\n",
    "\n",
    "# Calculate the precision-recall curve\n",
    "precision, recall, thresholds = precision_recall_curve(y_test, y_prob)\n",
    "\n",
    "# Calculate the average precision score\n",
    "average_precision = average_precision_score(y_test, y_prob) \n",
    "# Use y_prob, not y_probability\n",
    "\n",
    "# Plot the precision-recall curve\n",
    "plt.figure(figsize=(8, 6))\n",
    "plt.plot(recall, precision, color='b', lw=2, label=f'Precision-Recall curve (AP = {average_precision:.2f})')\n",
    "\n",
    "# Add labels and title\n",
    "plt.xlabel('Recall')\n",
    "plt.ylabel('Precision')\n",
    "plt.title('Precision-Recall Curve for Spam Detection')\n",
    "plt.legend(loc=\"lower left\")\n",
    "\n",
    "# Show the plot\n",
    "plt.show()"
   ]
  },
  {
   "cell_type": "code",
   "execution_count": 168,
   "id": "d4cce528-aae1-4997-af0f-eb1aa731008d",
   "metadata": {},
   "outputs": [
    {
     "data": {
      "image/png": "[encoded data removed]",
      "text/plain": [
       "<Figure size 1000x600 with 1 Axes>"
      ]
     },
     "metadata": {},
     "output_type": "display_data"
    }
   ],
   "source": [
    "# Access the CountVectorizer step of the pipeline to get the feature names (words)\n",
    "vectorizer = model.named_steps['countvectorizer']\n",
    "feature_names = vectorizer.get_feature_names_out()\n",
    "\n",
    "# Access the MultinomialNB step of the pipeline to get the feature log probabilities\n",
    "model_1 = model.named_steps['multinomialnb']\n",
    "log_probabilities = model_1.feature_log_prob_\n",
    "\n",
    "# Separate the log probabilities for spam and not spam\n",
    "spam_word_probs = log_probabilities[1]  # Spam class\n",
    "not_spam_word_probs = log_probabilities[0]  # Not spam class\n",
    "\n",
    "# Calculate the difference between spam and non-spam probabilities\n",
    "word_importance = spam_word_probs - not_spam_word_probs\n",
    "\n",
    "# Create a DataFrame to sort and display the most important features\n",
    "feature_importance_df = pd.DataFrame({\n",
    "    'Word': feature_names,\n",
    "    'Importance': word_importance\n",
    "})\n",
    "\n",
    "# Sort by importance (most important words for spam)\n",
    "top_n = 10  # You can change this value to show more or fewer words\n",
    "top_features = feature_importance_df.sort_values(by='Importance', ascending=False).head(top_n)\n",
    "\n",
    "# Plot the top N most important features\n",
    "plt.figure(figsize=(10, 6))\n",
    "plt.bar(top_features['Word'], top_features['Importance'], color='pink')\n",
    "plt.xlabel('Importance (log probability difference)')\n",
    "plt.title(f'Top {top_n} Most Important Features for Spam Detection')\n",
    "plt.show()"
   ]
  },
  {
   "cell_type": "code",
   "execution_count": 172,
   "id": "1236c62e-a220-4466-a6a1-f30f633305a8",
   "metadata": {},
   "outputs": [
    {
     "name": "stdout",
     "output_type": "stream",
     "text": [
      "      Metric     Score\n",
      "0   Accuracy  0.987529\n",
      "1  Precision  0.973333\n",
      "2     Recall  0.924051\n",
      "3   F1 Score  0.948052\n",
      "4    AUC-ROC  0.988388\n"
     ]
    },
    {
     "data": {
      "image/png": "[encoded data removed]",
      "text/plain": [
       "<Figure size 1000x600 with 1 Axes>"
      ]
     },
     "metadata": {},
     "output_type": "display_data"
    }
   ],
   "source": [
    "# Calculate metrics\n",
    "accuracy = accuracy_score(y_test,preds)\n",
    "precision = precision_score(y_test, preds)\n",
    "recall = recall_score(y_test, preds)\n",
    "f1 = f1_score(y_test, preds)\n",
    "roc_auc = roc_auc_score(y_test, y_prob)\n",
    "\n",
    "# Compile metrics into a DataFrame for easier visualization\n",
    "metrics_df = pd.DataFrame({\n",
    "    'Metric': ['Accuracy', 'Precision', 'Recall', 'F1 Score', 'AUC-ROC'],\n",
    "    'Score': [accuracy, precision, recall, f1, roc_auc]\n",
    "})\n",
    "\n",
    "# Display metrics in a table\n",
    "print(metrics_df)\n",
    "\n",
    "# Plot metrics as a multi-bar chart\n",
    "plt.figure(figsize=(10, 6))\n",
    "plt.bar(metrics_df['Metric'], metrics_df['Score'], color=['blue', 'orange', 'green', 'red', 'purple'])\n",
    "plt.ylim(0, 1)\n",
    "plt.ylabel('Score')\n",
    "plt.title('Model Performance Metrics')\n",
    "#plt.grid(axis='y')\n",
    "\n",
    "# Show the plot\n",
    "plt.show()"
   ]
  },
  {
   "cell_type": "code",
   "execution_count": 174,
   "id": "5b59a223-8c75-4aba-a050-a5d01add6ade",
   "metadata": {},
   "outputs": [
    {
     "data": {
      "image/png": "[encoded data removed]",
      "text/plain": [
       "<Figure size 1000x600 with 1 Axes>"
      ]
     },
     "metadata": {},
     "output_type": "display_data"
    }
   ],
   "source": [
    "# Calculate precision and recall at different thresholds\n",
    "precision, recall, thresholds = precision_recall_curve(y_test, y_prob)\n",
    "\n",
    "# Create a DataFrame for easier plotting\n",
    "thresholds = np.append(thresholds, 1.0)  # Append 1 to the thresholds for proper plotting\n",
    "precision = np.append(precision, precision[-1])  # Append last precision value\n",
    "recall = np.append(recall, recall[-1])  # Append last recall value\n",
    "\n",
    "# Plot precision and recall against thresholds\n",
    "plt.figure(figsize=(10, 6))\n",
    "\n",
    "# Plot only for valid thresholds\n",
    "plt.plot(thresholds, precision[:-1], label='Precision', color='blue', marker='o')\n",
    "plt.plot(thresholds, recall[:-1], label='Recall', color='orange', marker='o')  # Avoid last point\n",
    "plt.xlabel('Threshold')\n",
    "plt.ylabel('Score')\n",
    "plt.title('Precision and Recall vs. Threshold for Spam Detection')\n",
    "plt.xlim(0, 1)\n",
    "plt.ylim(0, 1)\n",
    "plt.axhline(0, color='gray', lw=0.5, ls='--')\n",
    "plt.axvline(0, color='gray', lw=0.5, ls='--')\n",
    "plt.legend()\n",
    "plt.grid()"
   ]
  },
  {
   "cell_type": "code",
   "execution_count": null,
   "id": "5bb974eb-3fae-4bcb-b87f-9f11ed790347",
   "metadata": {},
   "outputs": [],
   "source": []
  }
 ],
 "metadata": {
  "kernelspec": {
   "display_name": "Python 3 (ipykernel)",
   "language": "python",
   "name": "python3"
  },
  "language_info": {
   "codemirror_mode": {
    "name": "ipython",
    "version": 3
   },
   "file_extension": ".py",
   "mimetype": "text/x-python",
   "name": "python",
   "nbconvert_exporter": "python",
   "pygments_lexer": "ipython3",
   "version": "3.12.4"
  }
 },
 "nbformat": 4,
 "nbformat_minor": 5
}
